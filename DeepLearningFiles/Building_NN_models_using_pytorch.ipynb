{
  "nbformat": 4,
  "nbformat_minor": 0,
  "metadata": {
    "colab": {
      "provenance": [],
      "gpuType": "T4",
      "authorship_tag": "ABX9TyMu2bLaDIk0Ee58qcW2N480",
      "include_colab_link": true
    },
    "kernelspec": {
      "name": "python3",
      "display_name": "Python 3"
    },
    "language_info": {
      "name": "python"
    },
    "accelerator": "GPU"
  },
  "cells": [
    {
      "cell_type": "markdown",
      "metadata": {
        "id": "view-in-github",
        "colab_type": "text"
      },
      "source": [
        "<a href=\"https://colab.research.google.com/github/avikumart/LLM-GenAI-Transformers-Notebooks/blob/main/DeepLearningFiles/Building_NN_models_using_pytorch.ipynb\" target=\"_parent\"><img src=\"https://colab.research.google.com/assets/colab-badge.svg\" alt=\"Open In Colab\"/></a>"
      ]
    },
    {
      "cell_type": "markdown",
      "source": [
        "## Pytorch Basics / Tensor operations"
      ],
      "metadata": {
        "id": "ly7WMe_oU_iy"
      }
    },
    {
      "cell_type": "markdown",
      "source": [
        "1. [source:](https://www.kaggle.com/code/kanncaa1/pytorch-tutorial-for-deep-learning-lovers)\n",
        "\n",
        "2. [G4G docs](https://www.geeksforgeeks.org/start-learning-pytorch-for-beginners/)"
      ],
      "metadata": {
        "id": "jntQhfVhq8Jb"
      }
    },
    {
      "cell_type": "code",
      "execution_count": 1,
      "metadata": {
        "id": "t1M3NRxyN9sz"
      },
      "outputs": [],
      "source": [
        "import numpy as np\n",
        "import torch"
      ]
    },
    {
      "cell_type": "code",
      "source": [
        "arr = np.array([[23,34,56,2],\n",
        "                [12,41,52,5]])\n",
        "arr"
      ],
      "metadata": {
        "colab": {
          "base_uri": "https://localhost:8080/"
        },
        "id": "9h0_bRnjVLfe",
        "outputId": "0d7a4d6b-3c78-4d4c-c676-e5b898b49e3c"
      },
      "execution_count": 2,
      "outputs": [
        {
          "output_type": "execute_result",
          "data": {
            "text/plain": [
              "array([[23, 34, 56,  2],\n",
              "       [12, 41, 52,  5]])"
            ]
          },
          "metadata": {},
          "execution_count": 2
        }
      ]
    },
    {
      "cell_type": "code",
      "source": [
        "tensor = torch.tensor(arr)\n",
        "tensor"
      ],
      "metadata": {
        "colab": {
          "base_uri": "https://localhost:8080/"
        },
        "id": "3JFTd2nsVRI9",
        "outputId": "e1c79aa1-1594-4b9a-d536-1682d7e686d3"
      },
      "execution_count": 3,
      "outputs": [
        {
          "output_type": "execute_result",
          "data": {
            "text/plain": [
              "tensor([[23, 34, 56,  2],\n",
              "        [12, 41, 52,  5]])"
            ]
          },
          "metadata": {},
          "execution_count": 3
        }
      ]
    },
    {
      "cell_type": "code",
      "source": [
        "type(tensor)"
      ],
      "metadata": {
        "colab": {
          "base_uri": "https://localhost:8080/"
        },
        "id": "pdLRPUqZVWg-",
        "outputId": "f7685a20-88f8-4860-b25c-6a5933cef913"
      },
      "execution_count": 4,
      "outputs": [
        {
          "output_type": "execute_result",
          "data": {
            "text/plain": [
              "torch.Tensor"
            ]
          },
          "metadata": {},
          "execution_count": 4
        }
      ]
    },
    {
      "cell_type": "code",
      "source": [
        "# some random pytorch tensors\n",
        "torch.rand(4,3)"
      ],
      "metadata": {
        "colab": {
          "base_uri": "https://localhost:8080/"
        },
        "id": "TlpJKl3UVZ0e",
        "outputId": "61ab6dd4-4c70-4ac4-8f5e-054436b32300"
      },
      "execution_count": 5,
      "outputs": [
        {
          "output_type": "execute_result",
          "data": {
            "text/plain": [
              "tensor([[0.4359, 0.1772, 0.1798],\n",
              "        [0.3742, 0.1567, 0.1454],\n",
              "        [0.1976, 0.6318, 0.3414],\n",
              "        [0.6540, 0.9301, 0.4885]])"
            ]
          },
          "metadata": {},
          "execution_count": 5
        }
      ]
    },
    {
      "cell_type": "code",
      "source": [
        "torch.ones(4,4)"
      ],
      "metadata": {
        "colab": {
          "base_uri": "https://localhost:8080/"
        },
        "id": "xMCHWx1kV-fJ",
        "outputId": "b15bdb45-0865-4fb1-b7ad-64e5adf840fe"
      },
      "execution_count": 6,
      "outputs": [
        {
          "output_type": "execute_result",
          "data": {
            "text/plain": [
              "tensor([[1., 1., 1., 1.],\n",
              "        [1., 1., 1., 1.],\n",
              "        [1., 1., 1., 1.],\n",
              "        [1., 1., 1., 1.]])"
            ]
          },
          "metadata": {},
          "execution_count": 6
        }
      ]
    },
    {
      "cell_type": "code",
      "source": [
        "ten = torch.from_numpy(arr)\n",
        "ten"
      ],
      "metadata": {
        "colab": {
          "base_uri": "https://localhost:8080/"
        },
        "id": "yqfznZaxWBnI",
        "outputId": "905a0611-b660-4893-9936-cbb70b7fd1d0"
      },
      "execution_count": 7,
      "outputs": [
        {
          "output_type": "execute_result",
          "data": {
            "text/plain": [
              "tensor([[23, 34, 56,  2],\n",
              "        [12, 41, 52,  5]])"
            ]
          },
          "metadata": {},
          "execution_count": 7
        }
      ]
    },
    {
      "cell_type": "code",
      "source": [
        "arr1 = ten.numpy()\n",
        "arr1"
      ],
      "metadata": {
        "colab": {
          "base_uri": "https://localhost:8080/"
        },
        "id": "jSdDI3RbWNT3",
        "outputId": "e60fe0b4-151f-4fe7-ffb9-ce5d33f97b6c"
      },
      "execution_count": 8,
      "outputs": [
        {
          "output_type": "execute_result",
          "data": {
            "text/plain": [
              "array([[23, 34, 56,  2],\n",
              "       [12, 41, 52,  5]])"
            ]
          },
          "metadata": {},
          "execution_count": 8
        }
      ]
    },
    {
      "cell_type": "code",
      "source": [
        "tensor = torch.ones(3,4)\n",
        "tensor"
      ],
      "metadata": {
        "colab": {
          "base_uri": "https://localhost:8080/"
        },
        "id": "y8Ei9vi3WREl",
        "outputId": "1026552a-8afd-4f5e-9c55-c6e2819ef2ec"
      },
      "execution_count": 9,
      "outputs": [
        {
          "output_type": "execute_result",
          "data": {
            "text/plain": [
              "tensor([[1., 1., 1., 1.],\n",
              "        [1., 1., 1., 1.],\n",
              "        [1., 1., 1., 1.]])"
            ]
          },
          "metadata": {},
          "execution_count": 9
        }
      ]
    },
    {
      "cell_type": "code",
      "source": [
        "# addition\n",
        "torch.add(tensor,tensor)"
      ],
      "metadata": {
        "colab": {
          "base_uri": "https://localhost:8080/"
        },
        "id": "uB2FWgfNWiZW",
        "outputId": "0ba9f95d-f8d6-4244-d5b6-2ca734c2ce78"
      },
      "execution_count": 10,
      "outputs": [
        {
          "output_type": "execute_result",
          "data": {
            "text/plain": [
              "tensor([[2., 2., 2., 2.],\n",
              "        [2., 2., 2., 2.],\n",
              "        [2., 2., 2., 2.]])"
            ]
          },
          "metadata": {},
          "execution_count": 10
        }
      ]
    },
    {
      "cell_type": "code",
      "source": [
        "torch.sub(tensor,tensor)"
      ],
      "metadata": {
        "colab": {
          "base_uri": "https://localhost:8080/"
        },
        "id": "YA0Z2h6TXWsS",
        "outputId": "8824bcb5-4960-46c6-93cf-09f82cbb526f"
      },
      "execution_count": 11,
      "outputs": [
        {
          "output_type": "execute_result",
          "data": {
            "text/plain": [
              "tensor([[0., 0., 0., 0.],\n",
              "        [0., 0., 0., 0.],\n",
              "        [0., 0., 0., 0.]])"
            ]
          },
          "metadata": {},
          "execution_count": 11
        }
      ]
    },
    {
      "cell_type": "code",
      "source": [
        "torch.mul(tensor,tensor)"
      ],
      "metadata": {
        "colab": {
          "base_uri": "https://localhost:8080/"
        },
        "id": "AlaQpaFqXfD6",
        "outputId": "7c36719b-1904-4e38-9ef4-f126e19592e0"
      },
      "execution_count": 12,
      "outputs": [
        {
          "output_type": "execute_result",
          "data": {
            "text/plain": [
              "tensor([[1., 1., 1., 1.],\n",
              "        [1., 1., 1., 1.],\n",
              "        [1., 1., 1., 1.]])"
            ]
          },
          "metadata": {},
          "execution_count": 12
        }
      ]
    },
    {
      "cell_type": "code",
      "source": [
        "tensor.mean()"
      ],
      "metadata": {
        "colab": {
          "base_uri": "https://localhost:8080/"
        },
        "id": "YqoH-ZGtXoUd",
        "outputId": "abdc0a49-1522-488a-cc44-25a7cbf4add0"
      },
      "execution_count": 13,
      "outputs": [
        {
          "output_type": "execute_result",
          "data": {
            "text/plain": [
              "tensor(1.)"
            ]
          },
          "metadata": {},
          "execution_count": 13
        }
      ]
    },
    {
      "cell_type": "code",
      "source": [
        "# import variable form pytorch library\n",
        "from torch.autograd import Variable\n",
        "\n",
        "var = Variable(torch.rand(3,4),requires_grad=True)\n",
        "var"
      ],
      "metadata": {
        "colab": {
          "base_uri": "https://localhost:8080/"
        },
        "id": "g65Zf3I4Ygb_",
        "outputId": "7d19595a-1400-424e-e860-9c5fa259ff12"
      },
      "execution_count": 14,
      "outputs": [
        {
          "output_type": "execute_result",
          "data": {
            "text/plain": [
              "tensor([[0.4910, 0.1859, 0.4139, 0.7076],\n",
              "        [0.6373, 0.1643, 0.2796, 0.2785],\n",
              "        [0.5831, 0.9059, 0.3838, 0.9612]], requires_grad=True)"
            ]
          },
          "metadata": {},
          "execution_count": 14
        }
      ]
    },
    {
      "cell_type": "code",
      "source": [
        "# backward propagation of the equation y = x^2\n",
        "array = [2,4]\n",
        "tensor = torch.Tensor(array)\n",
        "\n",
        "x = Variable(tensor,requires_grad=True)\n",
        "y = x**2\n",
        "\n",
        "print(\"y  :\",y)\n",
        "\n",
        "o = (1/2)*sum(y)\n",
        "print(\"o  :\",o)\n",
        "\n",
        "o.backward()\n",
        "print(\"x.grad  :\",x.grad)"
      ],
      "metadata": {
        "colab": {
          "base_uri": "https://localhost:8080/"
        },
        "id": "dl_l6k2eYwgg",
        "outputId": "13adc630-8150-4e04-d4e1-e8f9c00b2599"
      },
      "execution_count": 15,
      "outputs": [
        {
          "output_type": "stream",
          "name": "stdout",
          "text": [
            "y  : tensor([ 4., 16.], grad_fn=<PowBackward0>)\n",
            "o  : tensor(10., grad_fn=<MulBackward0>)\n",
            "x.grad  : tensor([2., 4.])\n"
          ]
        }
      ]
    },
    {
      "cell_type": "markdown",
      "source": [
        "## Linear regression model using pytorch"
      ],
      "metadata": {
        "id": "lDODjMuSdCjA"
      }
    },
    {
      "cell_type": "code",
      "source": [
        "# generate dummay x and y data\n",
        "x = np.random.rand(100,1)\n",
        "y = 2 + 3*x + np.random.rand(100,1)\n",
        "\n",
        "# convert to the tensor\n",
        "ten_x = torch.Tensor(x)\n",
        "ten_y = torch.Tensor(y)\n",
        "\n",
        "# make the data optimizable\n",
        "ten_x = Variable(ten_x,requires_grad=True)\n",
        "ten_y = Variable(ten_y)"
      ],
      "metadata": {
        "id": "XjZPX7K_cIvd"
      },
      "execution_count": 16,
      "outputs": []
    },
    {
      "cell_type": "code",
      "source": [
        "# plot the chart of the x and y\n",
        "import matplotlib.pyplot as plt\n",
        "plt.scatter(ten_x.data.numpy(),ten_y.data.numpy())"
      ],
      "metadata": {
        "colab": {
          "base_uri": "https://localhost:8080/",
          "height": 448
        },
        "id": "L3QiVtdgfxo7",
        "outputId": "5dafc5e0-5b2a-4bb9-9205-740ef905cb1a"
      },
      "execution_count": 17,
      "outputs": [
        {
          "output_type": "execute_result",
          "data": {
            "text/plain": [
              "<matplotlib.collections.PathCollection at 0x7be85e9fcdd0>"
            ]
          },
          "metadata": {},
          "execution_count": 17
        },
        {
          "output_type": "display_data",
          "data": {
            "text/plain": [
              "<Figure size 640x480 with 1 Axes>"
            ],
            "image/png": "[encoded data removed]"
          },
          "metadata": {}
        }
      ]
    },
    {
      "cell_type": "code",
      "source": [
        "# Build the linear regression model\n",
        "import torch\n",
        "import torch.nn as nn\n",
        "from torch.autograd import Variable\n",
        "from torch.optim import SGD\n",
        "\n",
        "# create the linear regression class\n",
        "class LinearRegression(nn.Module):\n",
        "    def __init__(self, input_size, output_size):\n",
        "        super(LinearRegression,self).__init__()\n",
        "        self.linear = nn.Linear(input_size,output_size)\n",
        "\n",
        "    def forward(self,x):\n",
        "      x = self.linear(x)\n",
        "      return x"
      ],
      "metadata": {
        "id": "FlEPtFpsgha-"
      },
      "execution_count": 18,
      "outputs": []
    },
    {
      "cell_type": "code",
      "source": [
        "# define the model\n",
        "model = LinearRegression(1,1)\n",
        "\n",
        "# define the loss\n",
        "loss_fn = nn.MSELoss()\n",
        "\n",
        "# define the optimizer\n",
        "optimizer = SGD(model.parameters(),lr=0.01)"
      ],
      "metadata": {
        "id": "l-Ho7W8liin4"
      },
      "execution_count": 19,
      "outputs": []
    },
    {
      "cell_type": "code",
      "source": [
        "# train the model\n",
        "loss_list = []\n",
        "epochs = 10002\n",
        "for epoch in range(epochs):\n",
        "  optimizer.zero_grad()\n",
        "  results = model(ten_x)\n",
        "  loss = loss_fn(results,ten_y)\n",
        "  loss.backward()\n",
        "  optimizer.step()\n",
        "  loss_list.append(loss.data)\n",
        "  if epoch % 50 == 0:\n",
        "    print(f\"epoch: {epoch}, loss: {loss.data}\")"
      ],
      "metadata": {
        "colab": {
          "base_uri": "https://localhost:8080/"
        },
        "id": "kjloF7aWixbN",
        "outputId": "50b811a8-aabf-4c27-f21b-7a71d3167ef1"
      },
      "execution_count": 20,
      "outputs": [
        {
          "output_type": "stream",
          "name": "stdout",
          "text": [
            "epoch: 0, loss: 23.446332931518555\n",
            "epoch: 50, loss: 1.7752615213394165\n",
            "epoch: 100, loss: 0.20679788291454315\n",
            "epoch: 150, loss: 0.09237940609455109\n",
            "epoch: 200, loss: 0.08323995769023895\n",
            "epoch: 250, loss: 0.08181694895029068\n",
            "epoch: 300, loss: 0.08104223012924194\n",
            "epoch: 350, loss: 0.08039392530918121\n",
            "epoch: 400, loss: 0.07982474565505981\n",
            "epoch: 450, loss: 0.07932315766811371\n",
            "epoch: 500, loss: 0.07888093590736389\n",
            "epoch: 550, loss: 0.07849103212356567\n",
            "epoch: 600, loss: 0.07814721763134003\n",
            "epoch: 650, loss: 0.07784412056207657\n",
            "epoch: 700, loss: 0.07757687568664551\n",
            "epoch: 750, loss: 0.07734129577875137\n",
            "epoch: 800, loss: 0.07713355123996735\n",
            "epoch: 850, loss: 0.07695035636425018\n",
            "epoch: 900, loss: 0.07678885757923126\n",
            "epoch: 950, loss: 0.07664647698402405\n",
            "epoch: 1000, loss: 0.07652091979980469\n",
            "epoch: 1050, loss: 0.07641022652387619\n",
            "epoch: 1100, loss: 0.07631263881921768\n",
            "epoch: 1150, loss: 0.0762265995144844\n",
            "epoch: 1200, loss: 0.07615074515342712\n",
            "epoch: 1250, loss: 0.07608383893966675\n",
            "epoch: 1300, loss: 0.07602488249540329\n",
            "epoch: 1350, loss: 0.07597286999225616\n",
            "epoch: 1400, loss: 0.07592702656984329\n",
            "epoch: 1450, loss: 0.07588659971952438\n",
            "epoch: 1500, loss: 0.07585097849369049\n",
            "epoch: 1550, loss: 0.07581953704357147\n",
            "epoch: 1600, loss: 0.07579182833433151\n",
            "epoch: 1650, loss: 0.0757674053311348\n",
            "epoch: 1700, loss: 0.07574586570262909\n",
            "epoch: 1750, loss: 0.07572687417268753\n",
            "epoch: 1800, loss: 0.07571014761924744\n",
            "epoch: 1850, loss: 0.07569538801908493\n",
            "epoch: 1900, loss: 0.0756823793053627\n",
            "epoch: 1950, loss: 0.07567089051008224\n",
            "epoch: 2000, loss: 0.07566076517105103\n",
            "epoch: 2050, loss: 0.07565184682607651\n",
            "epoch: 2100, loss: 0.07564398646354675\n",
            "epoch: 2150, loss: 0.07563705742359161\n",
            "epoch: 2200, loss: 0.07563092559576035\n",
            "epoch: 2250, loss: 0.07562554627656937\n",
            "epoch: 2300, loss: 0.07562080025672913\n",
            "epoch: 2350, loss: 0.07561661303043365\n",
            "epoch: 2400, loss: 0.07561289519071579\n",
            "epoch: 2450, loss: 0.07560966163873672\n",
            "epoch: 2500, loss: 0.07560678571462631\n",
            "epoch: 2550, loss: 0.07560424506664276\n",
            "epoch: 2600, loss: 0.07560201734304428\n",
            "epoch: 2650, loss: 0.0756000503897667\n",
            "epoch: 2700, loss: 0.07559830695390701\n",
            "epoch: 2750, loss: 0.07559676468372345\n",
            "epoch: 2800, loss: 0.075595423579216\n",
            "epoch: 2850, loss: 0.07559424638748169\n",
            "epoch: 2900, loss: 0.07559320330619812\n",
            "epoch: 2950, loss: 0.0755922868847847\n",
            "epoch: 3000, loss: 0.07559146732091904\n",
            "epoch: 3050, loss: 0.07559073716402054\n",
            "epoch: 3100, loss: 0.0755901038646698\n",
            "epoch: 3150, loss: 0.07558953762054443\n",
            "epoch: 3200, loss: 0.07558903843164444\n",
            "epoch: 3250, loss: 0.07558861374855042\n",
            "epoch: 3300, loss: 0.07558823376893997\n",
            "epoch: 3350, loss: 0.07558789104223251\n",
            "epoch: 3400, loss: 0.07558760046958923\n",
            "epoch: 3450, loss: 0.07558734714984894\n",
            "epoch: 3500, loss: 0.07558711618185043\n",
            "epoch: 3550, loss: 0.07558690756559372\n",
            "epoch: 3600, loss: 0.0755867138504982\n",
            "epoch: 3650, loss: 0.07558654993772507\n",
            "epoch: 3700, loss: 0.07558642327785492\n",
            "epoch: 3750, loss: 0.07558628916740417\n",
            "epoch: 3800, loss: 0.07558619230985641\n",
            "epoch: 3850, loss: 0.07558610290288925\n",
            "epoch: 3900, loss: 0.07558602094650269\n",
            "epoch: 3950, loss: 0.07558593153953552\n",
            "epoch: 4000, loss: 0.07558587193489075\n",
            "epoch: 4050, loss: 0.07558581233024597\n",
            "epoch: 4100, loss: 0.0755857527256012\n",
            "epoch: 4150, loss: 0.07558570057153702\n",
            "epoch: 4200, loss: 0.07558567076921463\n",
            "epoch: 4250, loss: 0.07558564841747284\n",
            "epoch: 4300, loss: 0.07558561116456985\n",
            "epoch: 4350, loss: 0.07558558136224747\n",
            "epoch: 4400, loss: 0.07558555901050568\n",
            "epoch: 4450, loss: 0.07558552920818329\n",
            "epoch: 4500, loss: 0.07558552920818329\n",
            "epoch: 4550, loss: 0.0755855068564415\n",
            "epoch: 4600, loss: 0.07558548450469971\n",
            "epoch: 4650, loss: 0.07558547705411911\n",
            "epoch: 4700, loss: 0.07558546215295792\n",
            "epoch: 4750, loss: 0.07558545470237732\n",
            "epoch: 4800, loss: 0.07558545470237732\n",
            "epoch: 4850, loss: 0.07558545470237732\n",
            "epoch: 4900, loss: 0.07558543980121613\n",
            "epoch: 4950, loss: 0.07558543235063553\n",
            "epoch: 5000, loss: 0.07558542490005493\n",
            "epoch: 5050, loss: 0.07558540254831314\n",
            "epoch: 5100, loss: 0.07558540999889374\n",
            "epoch: 5150, loss: 0.07558540254831314\n",
            "epoch: 5200, loss: 0.07558540254831314\n",
            "epoch: 5250, loss: 0.07558539509773254\n",
            "epoch: 5300, loss: 0.07558539509773254\n",
            "epoch: 5350, loss: 0.07558540254831314\n",
            "epoch: 5400, loss: 0.07558538019657135\n",
            "epoch: 5450, loss: 0.07558538764715195\n",
            "epoch: 5500, loss: 0.07558539509773254\n",
            "epoch: 5550, loss: 0.07558539509773254\n",
            "epoch: 5600, loss: 0.07558538764715195\n",
            "epoch: 5650, loss: 0.07558538764715195\n",
            "epoch: 5700, loss: 0.07558537274599075\n",
            "epoch: 5750, loss: 0.07558538019657135\n",
            "epoch: 5800, loss: 0.07558538019657135\n",
            "epoch: 5850, loss: 0.07558537274599075\n",
            "epoch: 5900, loss: 0.07558538764715195\n",
            "epoch: 5950, loss: 0.07558537274599075\n",
            "epoch: 6000, loss: 0.07558537274599075\n",
            "epoch: 6050, loss: 0.07558538019657135\n",
            "epoch: 6100, loss: 0.07558538764715195\n",
            "epoch: 6150, loss: 0.07558538764715195\n",
            "epoch: 6200, loss: 0.07558538019657135\n",
            "epoch: 6250, loss: 0.07558538019657135\n",
            "epoch: 6300, loss: 0.07558538764715195\n",
            "epoch: 6350, loss: 0.07558537274599075\n",
            "epoch: 6400, loss: 0.07558536529541016\n",
            "epoch: 6450, loss: 0.07558536529541016\n",
            "epoch: 6500, loss: 0.07558539509773254\n",
            "epoch: 6550, loss: 0.07558539509773254\n",
            "epoch: 6600, loss: 0.07558539509773254\n",
            "epoch: 6650, loss: 0.07558539509773254\n",
            "epoch: 6700, loss: 0.07558539509773254\n",
            "epoch: 6750, loss: 0.07558539509773254\n",
            "epoch: 6800, loss: 0.07558539509773254\n",
            "epoch: 6850, loss: 0.07558539509773254\n",
            "epoch: 6900, loss: 0.07558539509773254\n",
            "epoch: 6950, loss: 0.07558539509773254\n",
            "epoch: 7000, loss: 0.07558539509773254\n",
            "epoch: 7050, loss: 0.07558539509773254\n",
            "epoch: 7100, loss: 0.07558539509773254\n",
            "epoch: 7150, loss: 0.07558539509773254\n",
            "epoch: 7200, loss: 0.07558539509773254\n",
            "epoch: 7250, loss: 0.07558539509773254\n",
            "epoch: 7300, loss: 0.07558539509773254\n",
            "epoch: 7350, loss: 0.07558539509773254\n",
            "epoch: 7400, loss: 0.07558539509773254\n",
            "epoch: 7450, loss: 0.07558539509773254\n",
            "epoch: 7500, loss: 0.07558539509773254\n",
            "epoch: 7550, loss: 0.07558539509773254\n",
            "epoch: 7600, loss: 0.07558539509773254\n",
            "epoch: 7650, loss: 0.07558539509773254\n",
            "epoch: 7700, loss: 0.07558539509773254\n",
            "epoch: 7750, loss: 0.07558539509773254\n",
            "epoch: 7800, loss: 0.07558539509773254\n",
            "epoch: 7850, loss: 0.07558539509773254\n",
            "epoch: 7900, loss: 0.07558539509773254\n",
            "epoch: 7950, loss: 0.07558539509773254\n",
            "epoch: 8000, loss: 0.07558539509773254\n",
            "epoch: 8050, loss: 0.07558539509773254\n",
            "epoch: 8100, loss: 0.07558539509773254\n",
            "epoch: 8150, loss: 0.07558539509773254\n",
            "epoch: 8200, loss: 0.07558539509773254\n",
            "epoch: 8250, loss: 0.07558539509773254\n",
            "epoch: 8300, loss: 0.07558539509773254\n",
            "epoch: 8350, loss: 0.07558539509773254\n",
            "epoch: 8400, loss: 0.07558539509773254\n",
            "epoch: 8450, loss: 0.07558539509773254\n",
            "epoch: 8500, loss: 0.07558539509773254\n",
            "epoch: 8550, loss: 0.07558539509773254\n",
            "epoch: 8600, loss: 0.07558539509773254\n",
            "epoch: 8650, loss: 0.07558539509773254\n",
            "epoch: 8700, loss: 0.07558539509773254\n",
            "epoch: 8750, loss: 0.07558539509773254\n",
            "epoch: 8800, loss: 0.07558539509773254\n",
            "epoch: 8850, loss: 0.07558539509773254\n",
            "epoch: 8900, loss: 0.07558539509773254\n",
            "epoch: 8950, loss: 0.07558539509773254\n",
            "epoch: 9000, loss: 0.07558539509773254\n",
            "epoch: 9050, loss: 0.07558539509773254\n",
            "epoch: 9100, loss: 0.07558539509773254\n",
            "epoch: 9150, loss: 0.07558539509773254\n",
            "epoch: 9200, loss: 0.07558539509773254\n",
            "epoch: 9250, loss: 0.07558539509773254\n",
            "epoch: 9300, loss: 0.07558539509773254\n",
            "epoch: 9350, loss: 0.07558539509773254\n",
            "epoch: 9400, loss: 0.07558539509773254\n",
            "epoch: 9450, loss: 0.07558539509773254\n",
            "epoch: 9500, loss: 0.07558539509773254\n",
            "epoch: 9550, loss: 0.07558539509773254\n",
            "epoch: 9600, loss: 0.07558539509773254\n",
            "epoch: 9650, loss: 0.07558539509773254\n",
            "epoch: 9700, loss: 0.07558539509773254\n",
            "epoch: 9750, loss: 0.07558539509773254\n",
            "epoch: 9800, loss: 0.07558539509773254\n",
            "epoch: 9850, loss: 0.07558539509773254\n",
            "epoch: 9900, loss: 0.07558539509773254\n",
            "epoch: 9950, loss: 0.07558539509773254\n",
            "epoch: 10000, loss: 0.07558539509773254\n"
          ]
        }
      ]
    },
    {
      "cell_type": "markdown",
      "source": [
        "## Logistic regression using pytorch"
      ],
      "metadata": {
        "id": "G8xSOT7e7uPE"
      }
    },
    {
      "cell_type": "code",
      "source": [
        "import torch.optim as optimize\n",
        "from sklearn.datasets import load_iris\n",
        "from sklearn.model_selection import train_test_split\n",
        "from sklearn.preprocessing import StandardScaler\n",
        "\n",
        "# import load iris dataset\n",
        "iris = load_iris()\n",
        "X = iris.data\n",
        "y = iris.target\n",
        "\n",
        "# train and test split the dataset\n",
        "X_train,X_test,y_train,y_test = train_test_split(X,y,test_size=0.2,random_state=42)\n",
        "\n",
        "scaler = StandardScaler()\n",
        "X_train = scaler.fit_transform(X_train)\n",
        "X_test = scaler.transform(X_test)\n",
        "\n",
        "# convert the dataet into pytorch tensors\n",
        "train_X = torch.Tensor(X_train)\n",
        "train_y = torch.Tensor(y_train)\n",
        "\n",
        "test_X = torch.Tensor(X_test)\n",
        "test_y = torch.Tensor(y_test)"
      ],
      "metadata": {
        "id": "BIO0_BC_6hOR"
      },
      "execution_count": 21,
      "outputs": []
    },
    {
      "cell_type": "code",
      "source": [
        "# define the model\n",
        "class LogReg(nn.Module):\n",
        "  def __init__(self, input_dim,hidden_size, output_dim):\n",
        "    super(LogReg,self).__init__()\n",
        "    self.fc1 = nn.Linear(input_dim,hidden_size)\n",
        "    self.relu = nn.ReLU()\n",
        "    self.fc2 = nn.Linear(hidden_size,output_dim)\n",
        "\n",
        "  def forward(self,x):\n",
        "    out = self.fc1(x)\n",
        "    out = self.relu(out)\n",
        "    out = self.fc2(out)\n",
        "    return out"
      ],
      "metadata": {
        "id": "lQu3maMM2wwr"
      },
      "execution_count": 22,
      "outputs": []
    },
    {
      "cell_type": "code",
      "source": [
        "input_dim = train_X.shape[1]\n",
        "hidden_size = 15\n",
        "output_dim = len(iris.target_names)\n",
        "\n",
        "# create the model\n",
        "model = LogReg(input_dim,hidden_size,output_dim)\n",
        "\n",
        "# define the loss\n",
        "loss_fn = nn.CrossEntropyLoss()\n",
        "\n",
        "# define the optimizer\n",
        "optimizer = optimize.Adam(model.parameters(),lr=0.01)"
      ],
      "metadata": {
        "id": "hvBDDAYw3N1o"
      },
      "execution_count": 23,
      "outputs": []
    },
    {
      "cell_type": "code",
      "source": [
        "# train the model\n",
        "num_epochs = 1000\n",
        "for e in range(num_epochs):\n",
        "  # start the optimizer\n",
        "  optimizer.zero_grad()\n",
        "  outputs = model(train_X)\n",
        "  loss = loss_fn(outputs,train_y.long()) # does the softmax and calculates the loss function\n",
        "  loss.backward()\n",
        "  optimizer.step()\n",
        "  if e%10 == 0:\n",
        "    print(f\"epoch: {e}, loss: {loss.item()}\")"
      ],
      "metadata": {
        "colab": {
          "base_uri": "https://localhost:8080/"
        },
        "id": "Lue4HIG33hi5",
        "outputId": "af8c3ecf-914d-407c-acb0-7c8ef07cb28b"
      },
      "execution_count": 24,
      "outputs": [
        {
          "output_type": "stream",
          "name": "stdout",
          "text": [
            "epoch: 0, loss: 1.024781346321106\n",
            "epoch: 10, loss: 0.6306218504905701\n",
            "epoch: 20, loss: 0.41752663254737854\n",
            "epoch: 30, loss: 0.3258104920387268\n",
            "epoch: 40, loss: 0.2584036886692047\n",
            "epoch: 50, loss: 0.2011742889881134\n",
            "epoch: 60, loss: 0.15425674617290497\n",
            "epoch: 70, loss: 0.1196746677160263\n",
            "epoch: 80, loss: 0.09812083840370178\n",
            "epoch: 90, loss: 0.08410200476646423\n",
            "epoch: 100, loss: 0.07501719146966934\n",
            "epoch: 110, loss: 0.0689409002661705\n",
            "epoch: 120, loss: 0.06453175842761993\n",
            "epoch: 130, loss: 0.0611845925450325\n",
            "epoch: 140, loss: 0.0585487000644207\n",
            "epoch: 150, loss: 0.05640735104680061\n",
            "epoch: 160, loss: 0.05462953820824623\n",
            "epoch: 170, loss: 0.053128328174352646\n",
            "epoch: 180, loss: 0.05185503512620926\n",
            "epoch: 190, loss: 0.05077585205435753\n",
            "epoch: 200, loss: 0.049834802746772766\n",
            "epoch: 210, loss: 0.049020152539014816\n",
            "epoch: 220, loss: 0.04830692335963249\n",
            "epoch: 230, loss: 0.04767972230911255\n",
            "epoch: 240, loss: 0.0471285842359066\n",
            "epoch: 250, loss: 0.046640824526548386\n",
            "epoch: 260, loss: 0.046209465712308884\n",
            "epoch: 270, loss: 0.04582609981298447\n",
            "epoch: 280, loss: 0.04548182711005211\n",
            "epoch: 290, loss: 0.04516984149813652\n",
            "epoch: 300, loss: 0.044891152530908585\n",
            "epoch: 310, loss: 0.0446428582072258\n",
            "epoch: 320, loss: 0.044405724853277206\n",
            "epoch: 330, loss: 0.044195640832185745\n",
            "epoch: 340, loss: 0.044004444032907486\n",
            "epoch: 350, loss: 0.043836358934640884\n",
            "epoch: 360, loss: 0.043668750673532486\n",
            "epoch: 370, loss: 0.04352537915110588\n",
            "epoch: 380, loss: 0.04338807612657547\n",
            "epoch: 390, loss: 0.04326767846941948\n",
            "epoch: 400, loss: 0.04315369576215744\n",
            "epoch: 410, loss: 0.04304797947406769\n",
            "epoch: 420, loss: 0.04295160621404648\n",
            "epoch: 430, loss: 0.042867064476013184\n",
            "epoch: 440, loss: 0.042782314121723175\n",
            "epoch: 450, loss: 0.042705316096544266\n",
            "epoch: 460, loss: 0.04264111816883087\n",
            "epoch: 470, loss: 0.042571019381284714\n",
            "epoch: 480, loss: 0.042510733008384705\n",
            "epoch: 490, loss: 0.04245226830244064\n",
            "epoch: 500, loss: 0.042398132383823395\n",
            "epoch: 510, loss: 0.042350899428129196\n",
            "epoch: 520, loss: 0.04230496659874916\n",
            "epoch: 530, loss: 0.042259346693754196\n",
            "epoch: 540, loss: 0.04221537336707115\n",
            "epoch: 550, loss: 0.04217693954706192\n",
            "epoch: 560, loss: 0.042139291763305664\n",
            "epoch: 570, loss: 0.04210296645760536\n",
            "epoch: 580, loss: 0.04207034036517143\n",
            "epoch: 590, loss: 0.04203619807958603\n",
            "epoch: 600, loss: 0.04200784116983414\n",
            "epoch: 610, loss: 0.04198072850704193\n",
            "epoch: 620, loss: 0.04195394366979599\n",
            "epoch: 630, loss: 0.04192691296339035\n",
            "epoch: 640, loss: 0.04190295189619064\n",
            "epoch: 650, loss: 0.04187760874629021\n",
            "epoch: 660, loss: 0.041855014860630035\n",
            "epoch: 670, loss: 0.04183311387896538\n",
            "epoch: 680, loss: 0.04181206598877907\n",
            "epoch: 690, loss: 0.04179314896464348\n",
            "epoch: 700, loss: 0.04177399352192879\n",
            "epoch: 710, loss: 0.04175476357340813\n",
            "epoch: 720, loss: 0.041736867278814316\n",
            "epoch: 730, loss: 0.041717778891325\n",
            "epoch: 740, loss: 0.04170035570859909\n",
            "epoch: 750, loss: 0.041683148592710495\n",
            "epoch: 760, loss: 0.041666559875011444\n",
            "epoch: 770, loss: 0.04164968430995941\n",
            "epoch: 780, loss: 0.0416346974670887\n",
            "epoch: 790, loss: 0.04161860793828964\n",
            "epoch: 800, loss: 0.04160374030470848\n",
            "epoch: 810, loss: 0.0415894016623497\n",
            "epoch: 820, loss: 0.04157615080475807\n",
            "epoch: 830, loss: 0.0415642149746418\n",
            "epoch: 840, loss: 0.041548751294612885\n",
            "epoch: 850, loss: 0.041533734649419785\n",
            "epoch: 860, loss: 0.04152165725827217\n",
            "epoch: 870, loss: 0.04150759428739548\n",
            "epoch: 880, loss: 0.041493501514196396\n",
            "epoch: 890, loss: 0.041482534259557724\n",
            "epoch: 900, loss: 0.041468050330877304\n",
            "epoch: 910, loss: 0.041454609483480453\n",
            "epoch: 920, loss: 0.041442327201366425\n",
            "epoch: 930, loss: 0.04142957925796509\n",
            "epoch: 940, loss: 0.04141698777675629\n",
            "epoch: 950, loss: 0.04140401631593704\n",
            "epoch: 960, loss: 0.04139292985200882\n",
            "epoch: 970, loss: 0.04138147458434105\n",
            "epoch: 980, loss: 0.04136756435036659\n",
            "epoch: 990, loss: 0.041355572640895844\n"
          ]
        }
      ]
    },
    {
      "cell_type": "code",
      "source": [
        "# evaluation of the model\n",
        "with torch.no_grad():\n",
        "  outputs = model(test_X)\n",
        "  _, predicts = torch.max(outputs,1)\n",
        "  acc = (predicts == test_y).sum().item() / test_y.size(0)\n",
        "  print(f\"accuracy: {acc}\")"
      ],
      "metadata": {
        "colab": {
          "base_uri": "https://localhost:8080/"
        },
        "id": "wo1URraPA3Wm",
        "outputId": "b337715a-fb23-447c-895a-f2dcdcc87444"
      },
      "execution_count": 25,
      "outputs": [
        {
          "output_type": "stream",
          "name": "stdout",
          "text": [
            "accuracy: 1.0\n"
          ]
        }
      ]
    },
    {
      "cell_type": "markdown",
      "source": [
        "## ANN modeling using PyTorch on MNIST digit classification dataset"
      ],
      "metadata": {
        "id": "FgGbVmvhp0yr"
      }
    },
    {
      "cell_type": "code",
      "source": [
        "# import the mnist dataset\n",
        "import torch\n",
        "import torch.nn as nn\n",
        "import torch.nn.functional as F\n",
        "from torchvision import datasets, transforms\n",
        "\n",
        "# load the dataset\n",
        "mnist_train = datasets.MNIST(root='./data', train=True, download=True, transform=transforms.ToTensor())\n",
        "mnist_test = datasets.MNIST(root='./data', train=False, download=True, transform=transforms.ToTensor())"
      ],
      "metadata": {
        "colab": {
          "base_uri": "https://localhost:8080/"
        },
        "id": "BQ3g9Es1p5P8",
        "outputId": "719b29c5-c46f-4cd4-ef14-acc61cff81f3"
      },
      "execution_count": 26,
      "outputs": [
        {
          "output_type": "stream",
          "name": "stderr",
          "text": [
            "100%|██████████| 9.91M/9.91M [00:00<00:00, 18.3MB/s]\n",
            "100%|██████████| 28.9k/28.9k [00:00<00:00, 496kB/s]\n",
            "100%|██████████| 1.65M/1.65M [00:00<00:00, 4.56MB/s]\n",
            "100%|██████████| 4.54k/4.54k [00:00<00:00, 14.7MB/s]\n"
          ]
        }
      ]
    },
    {
      "cell_type": "code",
      "source": [
        "# batch size and epochs\n",
        "batch_size = 50\n",
        "epochs = 3\n",
        "\n",
        "train_loader = torch.utils.data.DataLoader(mnist_train, batch_size=batch_size, shuffle=True)\n",
        "test_loader = torch.utils.data.DataLoader(mnist_test, batch_size=batch_size, shuffle=False)"
      ],
      "metadata": {
        "id": "SIVWO_gtrBXe"
      },
      "execution_count": 32,
      "outputs": []
    },
    {
      "cell_type": "code",
      "source": [
        "# define the model for the image classification\n",
        "class ANNModel(nn.Module):\n",
        "  def __init__(self, input, hidden, output):\n",
        "    super(ANNModel,self).__init__()\n",
        "    # ann model layers\n",
        "    self.fc1 = nn.Linear(input,hidden)\n",
        "    self.relu1 = nn.ReLU()\n",
        "    self.fc2 = nn.Linear(hidden,hidden)\n",
        "    self.relu2 = nn.ReLU()\n",
        "    self.fc3 = nn.Linear(hidden,hidden)\n",
        "    self.tanh = nn.Tanh()\n",
        "    self.fc4 = nn.Linear(hidden,output)\n",
        "\n",
        "  def forward(self, x):\n",
        "    # forward pass to the model\n",
        "    x = self.fc1(x)\n",
        "    x = self.relu1(x)\n",
        "    x = self.fc2(x)\n",
        "    x = self.relu2(x)\n",
        "    x = self.fc3(x)\n",
        "    x = self.tanh(x)\n",
        "    x = self.fc4(x)\n",
        "    return x"
      ],
      "metadata": {
        "id": "_368i-aStjL9"
      },
      "execution_count": 33,
      "outputs": []
    },
    {
      "cell_type": "code",
      "source": [
        "# set the the input dim and output dim\n",
        "input = 28*28\n",
        "output = 10\n",
        "hidden = 100\n",
        "\n",
        "# model\n",
        "clf_model = ANNModel(input,hidden,output)\n",
        "\n",
        "# loss\n",
        "criterion = nn.CrossEntropyLoss()\n",
        "\n",
        "# optimizer\n",
        "optimizer = torch.optim.Adam(clf_model.parameters(),lr=0.001)"
      ],
      "metadata": {
        "id": "Ia5znLeBw1LI"
      },
      "execution_count": 34,
      "outputs": []
    },
    {
      "cell_type": "code",
      "source": [
        "# train the model\n",
        "count = 0\n",
        "loss_li = []\n",
        "iteration_li = []\n",
        "accuracy_li = []\n",
        "for epoch in range(epochs):\n",
        "  for idx, (images,labels) in enumerate(train_loader):\n",
        "\n",
        "    train_data = Variable(images.view(-1, 28 * 28))\n",
        "    labels = labels\n",
        "\n",
        "    # train the model and store the loss and acc in the list\n",
        "    optimizer.zero_grad()\n",
        "    outputs = clf_model(train_data)\n",
        "    loss = criterion(outputs,labels)\n",
        "    loss.backward()\n",
        "    optimizer.step()\n",
        "    count += 1\n",
        "  if count % 5 == 0:\n",
        "    correct = 0\n",
        "    total = 0\n",
        "    for (images,labels) in test_loader:\n",
        "      test_data = Variable(images.view(-1, 28*28))\n",
        "      outputs = clf_model(test_data)\n",
        "      prediction = torch.max(outputs.data,1)\n",
        "      total += labels.size(0)\n",
        "      correct += (prediction[1] == labels).sum()\n",
        "    accuracy1 = 100 * correct / total\n",
        "    loss_li.append(loss.data)\n",
        "    iteration_li.append(count)\n",
        "    accuracy_li.append(accuracy1)\n",
        "  if count % 10 ==0:\n",
        "      print(\"Iteration: {}, Loss: {}, Accuracy: {}%\".format(count,loss.item(),accuracy1))"
      ],
      "metadata": {
        "colab": {
          "base_uri": "https://localhost:8080/"
        },
        "id": "52njyVRBxN3h",
        "outputId": "612a6409-860e-4bfd-df84-f5fa5060d074"
      },
      "execution_count": 36,
      "outputs": [
        {
          "output_type": "stream",
          "name": "stdout",
          "text": [
            "Iteration: 1200, Loss: 0.010333175770938396, Accuracy: 97.51000213623047%\n",
            "Iteration: 2400, Loss: 0.016702312976121902, Accuracy: 97.2699966430664%\n",
            "Iteration: 3600, Loss: 0.0982096791267395, Accuracy: 97.48999786376953%\n"
          ]
        }
      ]
    }
  ]
}