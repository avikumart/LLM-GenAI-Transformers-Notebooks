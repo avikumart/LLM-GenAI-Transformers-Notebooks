{
  "metadata": {
    "kernelspec": {
      "language": "python",
      "display_name": "Python 3",
      "name": "python3"
    },
    "language_info": {
      "name": "python",
      "version": "3.10.12",
      "mimetype": "text/x-python",
      "codemirror_mode": {
        "name": "ipython",
        "version": 3
      },
      "pygments_lexer": "ipython3",
      "nbconvert_exporter": "python",
      "file_extension": ".py"
    },
    "kaggle": {
      "accelerator": "none",
      "dataSources": [
        {
          "sourceId": 10704087,
          "sourceType": "datasetVersion",
          "datasetId": 6633766
        }
      ],
      "dockerImageVersionId": 30886,
      "isInternetEnabled": true,
      "language": "python",
      "sourceType": "notebook",
      "isGpuEnabled": false
    },
    "colab": {
      "name": "Thyroid Cancer Risk Dataset Deep Learning",
      "provenance": [],
      "include_colab_link": true
    }
  },
  "nbformat_minor": 0,
  "nbformat": 4,
  "cells": [
    {
      "cell_type": "markdown",
      "metadata": {
        "id": "view-in-github",
        "colab_type": "text"
      },
      "source": [
        "<a href=\"https://colab.research.google.com/github/avikumart/LLM-GenAI-Transformers-Notebooks/blob/main/DeepLearningFiles/Thyroid_Cancer_Risk_Dataset_Deep_Learning.ipynb\" target=\"_parent\"><img src=\"https://colab.research.google.com/assets/colab-badge.svg\" alt=\"Open In Colab\"/></a>"
      ]
    },
    {
      "source": [
        "# IMPORTANT: RUN THIS CELL IN ORDER TO IMPORT YOUR KAGGLE DATA SOURCES,\n",
        "# THEN FEEL FREE TO DELETE THIS CELL.\n",
        "# NOTE: THIS NOTEBOOK ENVIRONMENT DIFFERS FROM KAGGLE'S PYTHON\n",
        "# ENVIRONMENT SO THERE MAY BE MISSING LIBRARIES USED BY YOUR\n",
        "# NOTEBOOK.\n",
        "import kagglehub\n",
        "mzohaibzeeshan_thyroid_cancer_risk_dataset_path = kagglehub.dataset_download('mzohaibzeeshan/thyroid-cancer-risk-dataset')\n",
        "\n",
        "print('Data source import complete.')\n"
      ],
      "metadata": {
        "id": "z0bV4lIwzy57",
        "outputId": "66f7a6bd-d743-440c-d4a3-dacb7df54db9",
        "colab": {
          "base_uri": "https://localhost:8080/"
        }
      },
      "cell_type": "code",
      "outputs": [
        {
          "output_type": "stream",
          "name": "stdout",
          "text": [
            "Downloading from https://www.kaggle.com/api/v1/datasets/download/mzohaibzeeshan/thyroid-cancer-risk-dataset?dataset_version_number=1...\n"
          ]
        },
        {
          "output_type": "stream",
          "name": "stderr",
          "text": [
            "100%|██████████| 3.70M/3.70M [00:00<00:00, 68.5MB/s]"
          ]
        },
        {
          "output_type": "stream",
          "name": "stdout",
          "text": [
            "Extracting files...\n"
          ]
        },
        {
          "output_type": "stream",
          "name": "stderr",
          "text": [
            "\n"
          ]
        },
        {
          "output_type": "stream",
          "name": "stdout",
          "text": [
            "Data source import complete.\n"
          ]
        }
      ],
      "execution_count": 1
    },
    {
      "cell_type": "code",
      "source": [
        "import pandas as pd\n",
        "import numpy as np\n",
        "import os\n",
        "import torch\n",
        "import torch.nn as nn\n",
        "import torch.optim as optim\n",
        "import seaborn as sns\n",
        "import matplotlib.pyplot as plt\n",
        "from sklearn.model_selection import train_test_split\n",
        "from sklearn.preprocessing import LabelEncoder, StandardScaler\n",
        "from torch.utils.data import DataLoader, TensorDataset\n",
        "from sklearn.metrics import confusion_matrix, classification_report, ConfusionMatrixDisplay"
      ],
      "metadata": {
        "trusted": true,
        "execution": {
          "iopub.status.busy": "2025-04-21T03:49:49.8339Z",
          "iopub.execute_input": "2025-04-21T03:49:49.834166Z",
          "iopub.status.idle": "2025-04-21T03:49:54.615002Z",
          "shell.execute_reply.started": "2025-04-21T03:49:49.834147Z",
          "shell.execute_reply": "2025-04-21T03:49:54.613744Z"
        },
        "id": "Gv8yR0Qxzy59"
      },
      "outputs": [],
      "execution_count": 10
    },
    {
      "cell_type": "code",
      "source": [
        "import pandas as pd\n",
        "import numpy as np\n",
        "from sklearn.model_selection import train_test_split\n",
        "from sklearn.preprocessing import LabelEncoder, StandardScaler\n",
        "from tensorflow.keras.models import Sequential\n",
        "from tensorflow.keras.layers import Dense, Dropout\n",
        "from tensorflow.keras.utils import to_categorical"
      ],
      "metadata": {
        "trusted": true,
        "execution": {
          "iopub.status.busy": "2025-04-21T03:52:58.104229Z",
          "iopub.execute_input": "2025-04-21T03:52:58.104533Z",
          "iopub.status.idle": "2025-04-21T03:53:10.429845Z",
          "shell.execute_reply.started": "2025-04-21T03:52:58.104508Z",
          "shell.execute_reply": "2025-04-21T03:53:10.428739Z"
        },
        "id": "tgnRVQ3_zy59"
      },
      "outputs": [],
      "execution_count": 3
    },
    {
      "cell_type": "code",
      "source": [
        "!unzip thyroid-cancer-risk-dataset.zip -d thyroid-cancer-risk-dataset"
      ],
      "metadata": {
        "id": "Z6t5-8P40XQX",
        "outputId": "fa102cd8-4fa0-4e57-dc7a-17222efb3f51",
        "colab": {
          "base_uri": "https://localhost:8080/"
        }
      },
      "execution_count": 5,
      "outputs": [
        {
          "output_type": "stream",
          "name": "stdout",
          "text": [
            "unzip:  cannot find or open thyroid-cancer-risk-dataset.zip, thyroid-cancer-risk-dataset.zip.zip or thyroid-cancer-risk-dataset.zip.ZIP.\n"
          ]
        }
      ]
    },
    {
      "cell_type": "code",
      "source": [
        "data = pd.read_csv(os.path.join(mzohaibzeeshan_thyroid_cancer_risk_dataset_path, 'thyroid_cancer_risk_data.csv'))"
      ],
      "metadata": {
        "trusted": true,
        "execution": {
          "iopub.status.busy": "2025-04-21T03:49:54.616213Z",
          "iopub.execute_input": "2025-04-21T03:49:54.616658Z",
          "iopub.status.idle": "2025-04-21T03:49:55.186236Z",
          "shell.execute_reply.started": "2025-04-21T03:49:54.616615Z",
          "shell.execute_reply": "2025-04-21T03:49:55.185364Z"
        },
        "id": "t8ob01Aszy5-"
      },
      "outputs": [],
      "execution_count": 12
    },
    {
      "cell_type": "code",
      "source": [
        "data.info()"
      ],
      "metadata": {
        "trusted": true,
        "execution": {
          "iopub.status.busy": "2025-04-21T03:49:55.187685Z",
          "iopub.execute_input": "2025-04-21T03:49:55.187898Z",
          "iopub.status.idle": "2025-04-21T03:49:55.331615Z",
          "shell.execute_reply.started": "2025-04-21T03:49:55.187879Z",
          "shell.execute_reply": "2025-04-21T03:49:55.330721Z"
        },
        "id": "wgZ-Dhh2zy5-",
        "outputId": "6a58e949-d06f-4721-a3c9-5e8e5904da9c"
      },
      "outputs": [
        {
          "name": "stdout",
          "text": "<class 'pandas.core.frame.DataFrame'>\nRangeIndex: 212691 entries, 0 to 212690\nData columns (total 17 columns):\n #   Column               Non-Null Count   Dtype  \n---  ------               --------------   -----  \n 0   Patient_ID           212691 non-null  int64  \n 1   Age                  212691 non-null  int64  \n 2   Gender               212691 non-null  object \n 3   Country              212691 non-null  object \n 4   Ethnicity            212691 non-null  object \n 5   Family_History       212691 non-null  object \n 6   Radiation_Exposure   212691 non-null  object \n 7   Iodine_Deficiency    212691 non-null  object \n 8   Smoking              212691 non-null  object \n 9   Obesity              212691 non-null  object \n 10  Diabetes             212691 non-null  object \n 11  TSH_Level            212691 non-null  float64\n 12  T3_Level             212691 non-null  float64\n 13  T4_Level             212691 non-null  float64\n 14  Nodule_Size          212691 non-null  float64\n 15  Thyroid_Cancer_Risk  212691 non-null  object \n 16  Diagnosis            212691 non-null  object \ndtypes: float64(4), int64(2), object(11)\nmemory usage: 27.6+ MB\n",
          "output_type": "stream"
        }
      ],
      "execution_count": null
    },
    {
      "cell_type": "code",
      "source": [
        "data.describe()"
      ],
      "metadata": {
        "trusted": true,
        "execution": {
          "iopub.status.busy": "2025-04-21T03:49:55.332993Z",
          "iopub.execute_input": "2025-04-21T03:49:55.333255Z",
          "iopub.status.idle": "2025-04-21T03:49:55.393886Z",
          "shell.execute_reply.started": "2025-04-21T03:49:55.33323Z",
          "shell.execute_reply": "2025-04-21T03:49:55.393053Z"
        },
        "id": "i0GBK5uAzy5_",
        "outputId": "7bc37d4d-36b0-462f-c8e4-23e401ed7b30"
      },
      "outputs": [
        {
          "execution_count": 4,
          "output_type": "execute_result",
          "data": {
            "text/plain": "         Patient_ID            Age      TSH_Level       T3_Level  \\\ncount  212691.00000  212691.000000  212691.000000  212691.000000   \nmean   106346.00000      51.918497       5.045102       2.001727   \nstd     61398.74739      21.632815       2.860264       0.866248   \nmin         1.00000      15.000000       0.100000       0.500000   \n25%     53173.50000      33.000000       2.570000       1.250000   \n50%    106346.00000      52.000000       5.040000       2.000000   \n75%    159518.50000      71.000000       7.520000       2.750000   \nmax    212691.00000      89.000000      10.000000       3.500000   \n\n            T4_Level    Nodule_Size  \ncount  212691.000000  212691.000000  \nmean        8.246204       2.503403  \nstd         2.164188       1.444631  \nmin         4.500000       0.000000  \n25%         6.370000       1.250000  \n50%         8.240000       2.510000  \n75%        10.120000       3.760000  \nmax        12.000000       5.000000  ",
            "text/html": "<div>\n<style scoped>\n    .dataframe tbody tr th:only-of-type {\n        vertical-align: middle;\n    }\n\n    .dataframe tbody tr th {\n        vertical-align: top;\n    }\n\n    .dataframe thead th {\n        text-align: right;\n    }\n</style>\n<table border=\"1\" class=\"dataframe\">\n  <thead>\n    <tr style=\"text-align: right;\">\n      <th></th>\n      <th>Patient_ID</th>\n      <th>Age</th>\n      <th>TSH_Level</th>\n      <th>T3_Level</th>\n      <th>T4_Level</th>\n      <th>Nodule_Size</th>\n    </tr>\n  </thead>\n  <tbody>\n    <tr>\n      <th>count</th>\n      <td>212691.00000</td>\n      <td>212691.000000</td>\n      <td>212691.000000</td>\n      <td>212691.000000</td>\n      <td>212691.000000</td>\n      <td>212691.000000</td>\n    </tr>\n    <tr>\n      <th>mean</th>\n      <td>106346.00000</td>\n      <td>51.918497</td>\n      <td>5.045102</td>\n      <td>2.001727</td>\n      <td>8.246204</td>\n      <td>2.503403</td>\n    </tr>\n    <tr>\n      <th>std</th>\n      <td>61398.74739</td>\n      <td>21.632815</td>\n      <td>2.860264</td>\n      <td>0.866248</td>\n      <td>2.164188</td>\n      <td>1.444631</td>\n    </tr>\n    <tr>\n      <th>min</th>\n      <td>1.00000</td>\n      <td>15.000000</td>\n      <td>0.100000</td>\n      <td>0.500000</td>\n      <td>4.500000</td>\n      <td>0.000000</td>\n    </tr>\n    <tr>\n      <th>25%</th>\n      <td>53173.50000</td>\n      <td>33.000000</td>\n      <td>2.570000</td>\n      <td>1.250000</td>\n      <td>6.370000</td>\n      <td>1.250000</td>\n    </tr>\n    <tr>\n      <th>50%</th>\n      <td>106346.00000</td>\n      <td>52.000000</td>\n      <td>5.040000</td>\n      <td>2.000000</td>\n      <td>8.240000</td>\n      <td>2.510000</td>\n    </tr>\n    <tr>\n      <th>75%</th>\n      <td>159518.50000</td>\n      <td>71.000000</td>\n      <td>7.520000</td>\n      <td>2.750000</td>\n      <td>10.120000</td>\n      <td>3.760000</td>\n    </tr>\n    <tr>\n      <th>max</th>\n      <td>212691.00000</td>\n      <td>89.000000</td>\n      <td>10.000000</td>\n      <td>3.500000</td>\n      <td>12.000000</td>\n      <td>5.000000</td>\n    </tr>\n  </tbody>\n</table>\n</div>"
          },
          "metadata": {}
        }
      ],
      "execution_count": null
    },
    {
      "cell_type": "code",
      "source": [
        "data.head()"
      ],
      "metadata": {
        "trusted": true,
        "execution": {
          "iopub.status.busy": "2025-04-21T03:49:55.394672Z",
          "iopub.execute_input": "2025-04-21T03:49:55.394901Z",
          "iopub.status.idle": "2025-04-21T03:49:55.407946Z",
          "shell.execute_reply.started": "2025-04-21T03:49:55.394877Z",
          "shell.execute_reply": "2025-04-21T03:49:55.40708Z"
        },
        "id": "3PBvgl0ozy5_",
        "outputId": "396e6351-ddf7-4694-d1f1-ad7e6c05b75b"
      },
      "outputs": [
        {
          "execution_count": 5,
          "output_type": "execute_result",
          "data": {
            "text/plain": "   Patient_ID  Age  Gender  Country  Ethnicity Family_History  \\\n0           1   66    Male   Russia  Caucasian             No   \n1           2   29    Male  Germany   Hispanic             No   \n2           3   86    Male  Nigeria  Caucasian             No   \n3           4   75  Female    India      Asian             No   \n4           5   35  Female  Germany    African            Yes   \n\n  Radiation_Exposure Iodine_Deficiency Smoking Obesity Diabetes  TSH_Level  \\\n0                Yes                No      No      No       No       9.37   \n1                Yes                No      No      No       No       1.83   \n2                 No                No      No      No       No       6.26   \n3                 No                No      No      No       No       4.10   \n4                Yes                No      No      No       No       9.10   \n\n   T3_Level  T4_Level  Nodule_Size Thyroid_Cancer_Risk Diagnosis  \n0      1.67      6.16         1.08                 Low    Benign  \n1      1.73     10.54         4.05                 Low    Benign  \n2      2.59     10.57         4.61                 Low    Benign  \n3      2.62     11.04         2.46              Medium    Benign  \n4      2.11     10.71         2.11                High    Benign  ",
            "text/html": "<div>\n<style scoped>\n    .dataframe tbody tr th:only-of-type {\n        vertical-align: middle;\n    }\n\n    .dataframe tbody tr th {\n        vertical-align: top;\n    }\n\n    .dataframe thead th {\n        text-align: right;\n    }\n</style>\n<table border=\"1\" class=\"dataframe\">\n  <thead>\n    <tr style=\"text-align: right;\">\n      <th></th>\n      <th>Patient_ID</th>\n      <th>Age</th>\n      <th>Gender</th>\n      <th>Country</th>\n      <th>Ethnicity</th>\n      <th>Family_History</th>\n      <th>Radiation_Exposure</th>\n      <th>Iodine_Deficiency</th>\n      <th>Smoking</th>\n      <th>Obesity</th>\n      <th>Diabetes</th>\n      <th>TSH_Level</th>\n      <th>T3_Level</th>\n      <th>T4_Level</th>\n      <th>Nodule_Size</th>\n      <th>Thyroid_Cancer_Risk</th>\n      <th>Diagnosis</th>\n    </tr>\n  </thead>\n  <tbody>\n    <tr>\n      <th>0</th>\n      <td>1</td>\n      <td>66</td>\n      <td>Male</td>\n      <td>Russia</td>\n      <td>Caucasian</td>\n      <td>No</td>\n      <td>Yes</td>\n      <td>No</td>\n      <td>No</td>\n      <td>No</td>\n      <td>No</td>\n      <td>9.37</td>\n      <td>1.67</td>\n      <td>6.16</td>\n      <td>1.08</td>\n      <td>Low</td>\n      <td>Benign</td>\n    </tr>\n    <tr>\n      <th>1</th>\n      <td>2</td>\n      <td>29</td>\n      <td>Male</td>\n      <td>Germany</td>\n      <td>Hispanic</td>\n      <td>No</td>\n      <td>Yes</td>\n      <td>No</td>\n      <td>No</td>\n      <td>No</td>\n      <td>No</td>\n      <td>1.83</td>\n      <td>1.73</td>\n      <td>10.54</td>\n      <td>4.05</td>\n      <td>Low</td>\n      <td>Benign</td>\n    </tr>\n    <tr>\n      <th>2</th>\n      <td>3</td>\n      <td>86</td>\n      <td>Male</td>\n      <td>Nigeria</td>\n      <td>Caucasian</td>\n      <td>No</td>\n      <td>No</td>\n      <td>No</td>\n      <td>No</td>\n      <td>No</td>\n      <td>No</td>\n      <td>6.26</td>\n      <td>2.59</td>\n      <td>10.57</td>\n      <td>4.61</td>\n      <td>Low</td>\n      <td>Benign</td>\n    </tr>\n    <tr>\n      <th>3</th>\n      <td>4</td>\n      <td>75</td>\n      <td>Female</td>\n      <td>India</td>\n      <td>Asian</td>\n      <td>No</td>\n      <td>No</td>\n      <td>No</td>\n      <td>No</td>\n      <td>No</td>\n      <td>No</td>\n      <td>4.10</td>\n      <td>2.62</td>\n      <td>11.04</td>\n      <td>2.46</td>\n      <td>Medium</td>\n      <td>Benign</td>\n    </tr>\n    <tr>\n      <th>4</th>\n      <td>5</td>\n      <td>35</td>\n      <td>Female</td>\n      <td>Germany</td>\n      <td>African</td>\n      <td>Yes</td>\n      <td>Yes</td>\n      <td>No</td>\n      <td>No</td>\n      <td>No</td>\n      <td>No</td>\n      <td>9.10</td>\n      <td>2.11</td>\n      <td>10.71</td>\n      <td>2.11</td>\n      <td>High</td>\n      <td>Benign</td>\n    </tr>\n  </tbody>\n</table>\n</div>"
          },
          "metadata": {}
        }
      ],
      "execution_count": null
    },
    {
      "cell_type": "code",
      "source": [
        "# Check missing value\n",
        "data.isnull().sum()"
      ],
      "metadata": {
        "trusted": true,
        "execution": {
          "iopub.status.busy": "2025-04-21T03:49:55.40854Z",
          "iopub.execute_input": "2025-04-21T03:49:55.408788Z",
          "iopub.status.idle": "2025-04-21T03:49:55.508443Z",
          "shell.execute_reply.started": "2025-04-21T03:49:55.408765Z",
          "shell.execute_reply": "2025-04-21T03:49:55.50776Z"
        },
        "id": "KL4N2Ybhzy6A",
        "outputId": "eeb4acf9-394d-4ff9-aba8-ff6f346b1c76"
      },
      "outputs": [
        {
          "execution_count": 6,
          "output_type": "execute_result",
          "data": {
            "text/plain": "Patient_ID             0\nAge                    0\nGender                 0\nCountry                0\nEthnicity              0\nFamily_History         0\nRadiation_Exposure     0\nIodine_Deficiency      0\nSmoking                0\nObesity                0\nDiabetes               0\nTSH_Level              0\nT3_Level               0\nT4_Level               0\nNodule_Size            0\nThyroid_Cancer_Risk    0\nDiagnosis              0\ndtype: int64"
          },
          "metadata": {}
        }
      ],
      "execution_count": null
    },
    {
      "cell_type": "markdown",
      "source": [
        "# Preprocessing"
      ],
      "metadata": {
        "id": "l92HV3Lazy6B"
      }
    },
    {
      "cell_type": "code",
      "source": [
        "# Drop unnecessary columns\n",
        "columns_to_drop = ['Patient_ID', 'Country', 'Ethnicity']\n",
        "data.drop(columns=columns_to_drop, axis=1, inplace=True)"
      ],
      "metadata": {
        "trusted": true,
        "execution": {
          "iopub.status.busy": "2025-04-21T03:49:55.509085Z",
          "iopub.execute_input": "2025-04-21T03:49:55.509269Z",
          "iopub.status.idle": "2025-04-21T03:49:55.522488Z",
          "shell.execute_reply.started": "2025-04-21T03:49:55.509252Z",
          "shell.execute_reply": "2025-04-21T03:49:55.521725Z"
        },
        "id": "xi9CO3-tzy6C"
      },
      "outputs": [],
      "execution_count": null
    },
    {
      "cell_type": "code",
      "source": [
        "# Encode categorical variables\n",
        "label_encoders = {}\n",
        "categorical_cols = ['Gender', 'Family_History', 'Radiation_Exposure', 'Iodine_Deficiency', 'Smoking', 'Obesity', 'Diabetes', 'Thyroid_Cancer_Risk', 'Diagnosis']"
      ],
      "metadata": {
        "trusted": true,
        "execution": {
          "iopub.status.busy": "2025-04-21T03:49:55.523247Z",
          "iopub.execute_input": "2025-04-21T03:49:55.523471Z",
          "iopub.status.idle": "2025-04-21T03:49:55.530073Z",
          "shell.execute_reply.started": "2025-04-21T03:49:55.523452Z",
          "shell.execute_reply": "2025-04-21T03:49:55.529378Z"
        },
        "id": "u5EzhpTQzy6C"
      },
      "outputs": [],
      "execution_count": null
    },
    {
      "cell_type": "code",
      "source": [
        "for col in categorical_cols:\n",
        "    le = LabelEncoder()\n",
        "    data[col] = le.fit_transform(data[col])\n",
        "    label_encoders[col] = le"
      ],
      "metadata": {
        "trusted": true,
        "execution": {
          "iopub.status.busy": "2025-04-21T03:49:55.532897Z",
          "iopub.execute_input": "2025-04-21T03:49:55.533083Z",
          "iopub.status.idle": "2025-04-21T03:49:55.825984Z",
          "shell.execute_reply.started": "2025-04-21T03:49:55.533066Z",
          "shell.execute_reply": "2025-04-21T03:49:55.82494Z"
        },
        "id": "Uo6W-eowzy6C"
      },
      "outputs": [],
      "execution_count": null
    },
    {
      "cell_type": "code",
      "source": [
        "# Define features and target\n",
        "X = data.drop(columns=['Diagnosis']).values\n",
        "y = data['Diagnosis'].values"
      ],
      "metadata": {
        "trusted": true,
        "execution": {
          "iopub.status.busy": "2025-04-21T03:49:55.82741Z",
          "iopub.execute_input": "2025-04-21T03:49:55.82775Z",
          "iopub.status.idle": "2025-04-21T03:49:55.845716Z",
          "shell.execute_reply.started": "2025-04-21T03:49:55.827724Z",
          "shell.execute_reply": "2025-04-21T03:49:55.844603Z"
        },
        "id": "IesNqmmNzy6C"
      },
      "outputs": [],
      "execution_count": null
    },
    {
      "cell_type": "code",
      "source": [
        "# Split data into training and testing sets\n",
        "X_train, X_test, y_train, y_test = train_test_split(X, y, test_size=0.2, random_state=42)"
      ],
      "metadata": {
        "trusted": true,
        "execution": {
          "iopub.status.busy": "2025-04-21T03:49:55.846426Z",
          "iopub.execute_input": "2025-04-21T03:49:55.846713Z",
          "iopub.status.idle": "2025-04-21T03:49:55.882596Z",
          "shell.execute_reply.started": "2025-04-21T03:49:55.846689Z",
          "shell.execute_reply": "2025-04-21T03:49:55.881826Z"
        },
        "id": "UBNxp9mKzy6C"
      },
      "outputs": [],
      "execution_count": null
    },
    {
      "cell_type": "code",
      "source": [
        "# Standardize numerical features\n",
        "scaler = StandardScaler()\n",
        "X_train = scaler.fit_transform(X_train)\n",
        "X_test = scaler.transform(X_test)"
      ],
      "metadata": {
        "trusted": true,
        "execution": {
          "iopub.status.busy": "2025-04-21T03:49:55.883483Z",
          "iopub.execute_input": "2025-04-21T03:49:55.883788Z",
          "iopub.status.idle": "2025-04-21T03:49:55.947517Z",
          "shell.execute_reply.started": "2025-04-21T03:49:55.88376Z",
          "shell.execute_reply": "2025-04-21T03:49:55.946708Z"
        },
        "id": "1uW0QJDIzy6C"
      },
      "outputs": [],
      "execution_count": null
    },
    {
      "cell_type": "code",
      "source": [
        "# Convert to PyTorch tensors\n",
        "X_train_tensor = torch.tensor(X_train, dtype=torch.float32)\n",
        "X_test_tensor = torch.tensor(X_test, dtype=torch.float32)\n",
        "y_train_tensor = torch.tensor(y_train, dtype=torch.long)\n",
        "y_test_tensor = torch.tensor(y_test, dtype=torch.long)"
      ],
      "metadata": {
        "trusted": true,
        "execution": {
          "iopub.status.busy": "2025-04-21T03:49:55.948904Z",
          "iopub.execute_input": "2025-04-21T03:49:55.949205Z",
          "iopub.status.idle": "2025-04-21T03:49:55.982719Z",
          "shell.execute_reply.started": "2025-04-21T03:49:55.949183Z",
          "shell.execute_reply": "2025-04-21T03:49:55.981812Z"
        },
        "id": "X0e5D1S2zy6D"
      },
      "outputs": [],
      "execution_count": null
    },
    {
      "cell_type": "code",
      "source": [
        "# Create DataLoader for batch processing\n",
        "train_dataset = TensorDataset(X_train_tensor, y_train_tensor)\n",
        "test_dataset = TensorDataset(X_test_tensor, y_test_tensor)\n",
        "train_loader = DataLoader(train_dataset, batch_size=32, shuffle=True)\n",
        "test_loader = DataLoader(test_dataset, batch_size=32, shuffle=False)"
      ],
      "metadata": {
        "trusted": true,
        "execution": {
          "iopub.status.busy": "2025-04-21T03:49:55.983644Z",
          "iopub.execute_input": "2025-04-21T03:49:55.983894Z",
          "iopub.status.idle": "2025-04-21T03:49:55.990574Z",
          "shell.execute_reply.started": "2025-04-21T03:49:55.983872Z",
          "shell.execute_reply": "2025-04-21T03:49:55.989694Z"
        },
        "id": "j1lGZUcmzy6D"
      },
      "outputs": [],
      "execution_count": null
    },
    {
      "cell_type": "markdown",
      "source": [
        "# Define Model"
      ],
      "metadata": {
        "id": "HOnp13lrzy6D"
      }
    },
    {
      "cell_type": "markdown",
      "source": [
        "**1. Deep Learning using keras**"
      ],
      "metadata": {
        "id": "v0Jd_0cFzy6D"
      }
    },
    {
      "cell_type": "code",
      "source": [
        "# create the tensorflow model\n",
        "model = Sequential()\n",
        "model.add(Dense(128, activation='relu', input_shape=(X_train.shape[1],)))\n",
        "model.add(Dropout(0.3))\n",
        "model.add(Dense(64, activation='relu'))\n",
        "model.add(Dropout(0.3))\n",
        "model.add(Dense(1, activation='sigmoid'))  # softmax for multi-class\n",
        "\n",
        "model.compile(\n",
        "    optimizer='adam',\n",
        "    loss='categorical_crossentropy',\n",
        "    metrics=['accuracy']\n",
        ")"
      ],
      "metadata": {
        "trusted": true,
        "execution": {
          "iopub.status.busy": "2025-04-21T03:54:31.153183Z",
          "iopub.execute_input": "2025-04-21T03:54:31.153478Z",
          "iopub.status.idle": "2025-04-21T03:54:31.198761Z",
          "shell.execute_reply.started": "2025-04-21T03:54:31.153453Z",
          "shell.execute_reply": "2025-04-21T03:54:31.197823Z"
        },
        "id": "Pb0LcFFIzy6D"
      },
      "outputs": [],
      "execution_count": null
    },
    {
      "cell_type": "code",
      "source": [
        "history = model.fit(\n",
        "    X_train, y_train,\n",
        "    validation_split=0.2,\n",
        "    epochs=50,\n",
        "    batch_size=32,\n",
        "    verbose=1\n",
        ")"
      ],
      "metadata": {
        "trusted": true,
        "execution": {
          "iopub.status.busy": "2025-04-21T03:54:40.110319Z",
          "iopub.execute_input": "2025-04-21T03:54:40.110608Z",
          "iopub.status.idle": "2025-04-21T04:00:18.195746Z",
          "shell.execute_reply.started": "2025-04-21T03:54:40.110586Z",
          "shell.execute_reply": "2025-04-21T04:00:18.194817Z"
        },
        "id": "OouDvtaSzy6D",
        "outputId": "13e7dc81-ae78-4382-c550-1b1a52f7ae4f"
      },
      "outputs": [
        {
          "name": "stdout",
          "text": "Epoch 1/50\n",
          "output_type": "stream"
        },
        {
          "name": "stderr",
          "text": "/usr/local/lib/python3.10/dist-packages/keras/src/losses/losses.py:27: SyntaxWarning: In loss categorical_crossentropy, expected y_pred.shape to be (batch_size, num_classes) with num_classes > 1. Received: y_pred.shape=(None, 1). Consider using 'binary_crossentropy' if you only have 2 classes.\n  return self.fn(y_true, y_pred, **self._fn_kwargs)\n",
          "output_type": "stream"
        },
        {
          "name": "stdout",
          "text": "\u001b[1m4254/4254\u001b[0m \u001b[32m━━━━━━━━━━━━━━━━━━━━\u001b[0m\u001b[37m\u001b[0m \u001b[1m8s\u001b[0m 2ms/step - accuracy: 0.7699 - loss: 0.0000e+00 - val_accuracy: 0.7658 - val_loss: 0.0000e+00\nEpoch 2/50\n\u001b[1m4254/4254\u001b[0m \u001b[32m━━━━━━━━━━━━━━━━━━━━\u001b[0m\u001b[37m\u001b[0m \u001b[1m7s\u001b[0m 2ms/step - accuracy: 0.7677 - loss: 0.0000e+00 - val_accuracy: 0.7658 - val_loss: 0.0000e+00\nEpoch 3/50\n\u001b[1m4254/4254\u001b[0m \u001b[32m━━━━━━━━━━━━━━━━━━━━\u001b[0m\u001b[37m\u001b[0m \u001b[1m7s\u001b[0m 2ms/step - accuracy: 0.7693 - loss: 0.0000e+00 - val_accuracy: 0.7658 - val_loss: 0.0000e+00\nEpoch 4/50\n\u001b[1m4254/4254\u001b[0m \u001b[32m━━━━━━━━━━━━━━━━━━━━\u001b[0m\u001b[37m\u001b[0m \u001b[1m7s\u001b[0m 2ms/step - accuracy: 0.7651 - loss: 0.0000e+00 - val_accuracy: 0.7658 - val_loss: 0.0000e+00\nEpoch 5/50\n\u001b[1m4254/4254\u001b[0m \u001b[32m━━━━━━━━━━━━━━━━━━━━\u001b[0m\u001b[37m\u001b[0m \u001b[1m6s\u001b[0m 1ms/step - accuracy: 0.7687 - loss: 0.0000e+00 - val_accuracy: 0.7658 - val_loss: 0.0000e+00\nEpoch 6/50\n\u001b[1m4254/4254\u001b[0m \u001b[32m━━━━━━━━━━━━━━━━━━━━\u001b[0m\u001b[37m\u001b[0m \u001b[1m7s\u001b[0m 2ms/step - accuracy: 0.7684 - loss: 0.0000e+00 - val_accuracy: 0.7658 - val_loss: 0.0000e+00\nEpoch 7/50\n\u001b[1m4254/4254\u001b[0m \u001b[32m━━━━━━━━━━━━━━━━━━━━\u001b[0m\u001b[37m\u001b[0m \u001b[1m7s\u001b[0m 2ms/step - accuracy: 0.7678 - loss: 0.0000e+00 - val_accuracy: 0.7658 - val_loss: 0.0000e+00\nEpoch 8/50\n\u001b[1m4254/4254\u001b[0m \u001b[32m━━━━━━━━━━━━━━━━━━━━\u001b[0m\u001b[37m\u001b[0m \u001b[1m7s\u001b[0m 2ms/step - accuracy: 0.7690 - loss: 0.0000e+00 - val_accuracy: 0.7658 - val_loss: 0.0000e+00\nEpoch 9/50\n\u001b[1m4254/4254\u001b[0m \u001b[32m━━━━━━━━━━━━━━━━━━━━\u001b[0m\u001b[37m\u001b[0m \u001b[1m7s\u001b[0m 2ms/step - accuracy: 0.7677 - loss: 0.0000e+00 - val_accuracy: 0.7658 - val_loss: 0.0000e+00\nEpoch 10/50\n\u001b[1m4254/4254\u001b[0m \u001b[32m━━━━━━━━━━━━━━━━━━━━\u001b[0m\u001b[37m\u001b[0m \u001b[1m7s\u001b[0m 2ms/step - accuracy: 0.7686 - loss: 0.0000e+00 - val_accuracy: 0.7658 - val_loss: 0.0000e+00\nEpoch 11/50\n\u001b[1m4254/4254\u001b[0m \u001b[32m━━━━━━━━━━━━━━━━━━━━\u001b[0m\u001b[37m\u001b[0m \u001b[1m7s\u001b[0m 2ms/step - accuracy: 0.7694 - loss: 0.0000e+00 - val_accuracy: 0.7658 - val_loss: 0.0000e+00\nEpoch 12/50\n\u001b[1m4254/4254\u001b[0m \u001b[32m━━━━━━━━━━━━━━━━━━━━\u001b[0m\u001b[37m\u001b[0m \u001b[1m7s\u001b[0m 2ms/step - accuracy: 0.7685 - loss: 0.0000e+00 - val_accuracy: 0.7658 - val_loss: 0.0000e+00\nEpoch 13/50\n\u001b[1m4254/4254\u001b[0m \u001b[32m━━━━━━━━━━━━━━━━━━━━\u001b[0m\u001b[37m\u001b[0m \u001b[1m7s\u001b[0m 2ms/step - accuracy: 0.7658 - loss: 0.0000e+00 - val_accuracy: 0.7658 - val_loss: 0.0000e+00\nEpoch 14/50\n\u001b[1m4254/4254\u001b[0m \u001b[32m━━━━━━━━━━━━━━━━━━━━\u001b[0m\u001b[37m\u001b[0m \u001b[1m7s\u001b[0m 2ms/step - accuracy: 0.7695 - loss: 0.0000e+00 - val_accuracy: 0.7658 - val_loss: 0.0000e+00\nEpoch 15/50\n\u001b[1m4254/4254\u001b[0m \u001b[32m━━━━━━━━━━━━━━━━━━━━\u001b[0m\u001b[37m\u001b[0m \u001b[1m7s\u001b[0m 2ms/step - accuracy: 0.7703 - loss: 0.0000e+00 - val_accuracy: 0.7658 - val_loss: 0.0000e+00\nEpoch 16/50\n\u001b[1m4254/4254\u001b[0m \u001b[32m━━━━━━━━━━━━━━━━━━━━\u001b[0m\u001b[37m\u001b[0m \u001b[1m7s\u001b[0m 2ms/step - accuracy: 0.7681 - loss: 0.0000e+00 - val_accuracy: 0.7658 - val_loss: 0.0000e+00\nEpoch 17/50\n\u001b[1m4254/4254\u001b[0m \u001b[32m━━━━━━━━━━━━━━━━━━━━\u001b[0m\u001b[37m\u001b[0m \u001b[1m7s\u001b[0m 2ms/step - accuracy: 0.7689 - loss: 0.0000e+00 - val_accuracy: 0.7658 - val_loss: 0.0000e+00\nEpoch 18/50\n\u001b[1m4254/4254\u001b[0m \u001b[32m━━━━━━━━━━━━━━━━━━━━\u001b[0m\u001b[37m\u001b[0m \u001b[1m7s\u001b[0m 2ms/step - accuracy: 0.7681 - loss: 0.0000e+00 - val_accuracy: 0.7658 - val_loss: 0.0000e+00\nEpoch 19/50\n\u001b[1m4254/4254\u001b[0m \u001b[32m━━━━━━━━━━━━━━━━━━━━\u001b[0m\u001b[37m\u001b[0m \u001b[1m7s\u001b[0m 2ms/step - accuracy: 0.7676 - loss: 0.0000e+00 - val_accuracy: 0.7658 - val_loss: 0.0000e+00\nEpoch 20/50\n\u001b[1m4254/4254\u001b[0m \u001b[32m━━━━━━━━━━━━━━━━━━━━\u001b[0m\u001b[37m\u001b[0m \u001b[1m7s\u001b[0m 2ms/step - accuracy: 0.7689 - loss: 0.0000e+00 - val_accuracy: 0.7658 - val_loss: 0.0000e+00\nEpoch 21/50\n\u001b[1m4254/4254\u001b[0m \u001b[32m━━━━━━━━━━━━━━━━━━━━\u001b[0m\u001b[37m\u001b[0m \u001b[1m7s\u001b[0m 2ms/step - accuracy: 0.7680 - loss: 0.0000e+00 - val_accuracy: 0.7658 - val_loss: 0.0000e+00\nEpoch 22/50\n\u001b[1m4254/4254\u001b[0m \u001b[32m━━━━━━━━━━━━━━━━━━━━\u001b[0m\u001b[37m\u001b[0m \u001b[1m7s\u001b[0m 2ms/step - accuracy: 0.7706 - loss: 0.0000e+00 - val_accuracy: 0.7658 - val_loss: 0.0000e+00\nEpoch 23/50\n\u001b[1m4254/4254\u001b[0m \u001b[32m━━━━━━━━━━━━━━━━━━━━\u001b[0m\u001b[37m\u001b[0m \u001b[1m7s\u001b[0m 2ms/step - accuracy: 0.7677 - loss: 0.0000e+00 - val_accuracy: 0.7658 - val_loss: 0.0000e+00\nEpoch 24/50\n\u001b[1m4254/4254\u001b[0m \u001b[32m━━━━━━━━━━━━━━━━━━━━\u001b[0m\u001b[37m\u001b[0m \u001b[1m6s\u001b[0m 2ms/step - accuracy: 0.7665 - loss: 0.0000e+00 - val_accuracy: 0.7658 - val_loss: 0.0000e+00\nEpoch 25/50\n\u001b[1m4254/4254\u001b[0m \u001b[32m━━━━━━━━━━━━━━━━━━━━\u001b[0m\u001b[37m\u001b[0m \u001b[1m6s\u001b[0m 2ms/step - accuracy: 0.7702 - loss: 0.0000e+00 - val_accuracy: 0.7658 - val_loss: 0.0000e+00\nEpoch 26/50\n\u001b[1m4254/4254\u001b[0m \u001b[32m━━━━━━━━━━━━━━━━━━━━\u001b[0m\u001b[37m\u001b[0m \u001b[1m7s\u001b[0m 2ms/step - accuracy: 0.7673 - loss: 0.0000e+00 - val_accuracy: 0.7658 - val_loss: 0.0000e+00\nEpoch 27/50\n\u001b[1m4254/4254\u001b[0m \u001b[32m━━━━━━━━━━━━━━━━━━━━\u001b[0m\u001b[37m\u001b[0m \u001b[1m6s\u001b[0m 2ms/step - accuracy: 0.7692 - loss: 0.0000e+00 - val_accuracy: 0.7658 - val_loss: 0.0000e+00\nEpoch 28/50\n\u001b[1m4254/4254\u001b[0m \u001b[32m━━━━━━━━━━━━━━━━━━━━\u001b[0m\u001b[37m\u001b[0m \u001b[1m7s\u001b[0m 2ms/step - accuracy: 0.7673 - loss: 0.0000e+00 - val_accuracy: 0.7658 - val_loss: 0.0000e+00\nEpoch 29/50\n\u001b[1m4254/4254\u001b[0m \u001b[32m━━━━━━━━━━━━━━━━━━━━\u001b[0m\u001b[37m\u001b[0m \u001b[1m7s\u001b[0m 2ms/step - accuracy: 0.7670 - loss: 0.0000e+00 - val_accuracy: 0.7658 - val_loss: 0.0000e+00\nEpoch 30/50\n\u001b[1m4254/4254\u001b[0m \u001b[32m━━━━━━━━━━━━━━━━━━━━\u001b[0m\u001b[37m\u001b[0m \u001b[1m7s\u001b[0m 2ms/step - accuracy: 0.7691 - loss: 0.0000e+00 - val_accuracy: 0.7658 - val_loss: 0.0000e+00\nEpoch 31/50\n\u001b[1m4254/4254\u001b[0m \u001b[32m━━━━━━━━━━━━━━━━━━━━\u001b[0m\u001b[37m\u001b[0m \u001b[1m7s\u001b[0m 2ms/step - accuracy: 0.7685 - loss: 0.0000e+00 - val_accuracy: 0.7658 - val_loss: 0.0000e+00\nEpoch 32/50\n\u001b[1m4254/4254\u001b[0m \u001b[32m━━━━━━━━━━━━━━━━━━━━\u001b[0m\u001b[37m\u001b[0m \u001b[1m7s\u001b[0m 2ms/step - accuracy: 0.7665 - loss: 0.0000e+00 - val_accuracy: 0.7658 - val_loss: 0.0000e+00\nEpoch 33/50\n\u001b[1m4254/4254\u001b[0m \u001b[32m━━━━━━━━━━━━━━━━━━━━\u001b[0m\u001b[37m\u001b[0m \u001b[1m7s\u001b[0m 2ms/step - accuracy: 0.7679 - loss: 0.0000e+00 - val_accuracy: 0.7658 - val_loss: 0.0000e+00\nEpoch 34/50\n\u001b[1m4254/4254\u001b[0m \u001b[32m━━━━━━━━━━━━━━━━━━━━\u001b[0m\u001b[37m\u001b[0m \u001b[1m7s\u001b[0m 2ms/step - accuracy: 0.7672 - loss: 0.0000e+00 - val_accuracy: 0.7658 - val_loss: 0.0000e+00\nEpoch 35/50\n\u001b[1m4254/4254\u001b[0m \u001b[32m━━━━━━━━━━━━━━━━━━━━\u001b[0m\u001b[37m\u001b[0m \u001b[1m7s\u001b[0m 2ms/step - accuracy: 0.7694 - loss: 0.0000e+00 - val_accuracy: 0.7658 - val_loss: 0.0000e+00\nEpoch 36/50\n\u001b[1m4254/4254\u001b[0m \u001b[32m━━━━━━━━━━━━━━━━━━━━\u001b[0m\u001b[37m\u001b[0m \u001b[1m7s\u001b[0m 2ms/step - accuracy: 0.7669 - loss: 0.0000e+00 - val_accuracy: 0.7658 - val_loss: 0.0000e+00\nEpoch 37/50\n\u001b[1m4254/4254\u001b[0m \u001b[32m━━━━━━━━━━━━━━━━━━━━\u001b[0m\u001b[37m\u001b[0m \u001b[1m7s\u001b[0m 2ms/step - accuracy: 0.7682 - loss: 0.0000e+00 - val_accuracy: 0.7658 - val_loss: 0.0000e+00\nEpoch 38/50\n\u001b[1m4254/4254\u001b[0m \u001b[32m━━━━━━━━━━━━━━━━━━━━\u001b[0m\u001b[37m\u001b[0m \u001b[1m6s\u001b[0m 2ms/step - accuracy: 0.7679 - loss: 0.0000e+00 - val_accuracy: 0.7658 - val_loss: 0.0000e+00\nEpoch 39/50\n\u001b[1m4254/4254\u001b[0m \u001b[32m━━━━━━━━━━━━━━━━━━━━\u001b[0m\u001b[37m\u001b[0m \u001b[1m7s\u001b[0m 2ms/step - accuracy: 0.7696 - loss: 0.0000e+00 - val_accuracy: 0.7658 - val_loss: 0.0000e+00\nEpoch 40/50\n\u001b[1m4254/4254\u001b[0m \u001b[32m━━━━━━━━━━━━━━━━━━━━\u001b[0m\u001b[37m\u001b[0m \u001b[1m7s\u001b[0m 2ms/step - accuracy: 0.7684 - loss: 0.0000e+00 - val_accuracy: 0.7658 - val_loss: 0.0000e+00\nEpoch 41/50\n\u001b[1m4254/4254\u001b[0m \u001b[32m━━━━━━━━━━━━━━━━━━━━\u001b[0m\u001b[37m\u001b[0m \u001b[1m7s\u001b[0m 2ms/step - accuracy: 0.7661 - loss: 0.0000e+00 - val_accuracy: 0.7658 - val_loss: 0.0000e+00\nEpoch 42/50\n\u001b[1m4254/4254\u001b[0m \u001b[32m━━━━━━━━━━━━━━━━━━━━\u001b[0m\u001b[37m\u001b[0m \u001b[1m7s\u001b[0m 2ms/step - accuracy: 0.7669 - loss: 0.0000e+00 - val_accuracy: 0.7658 - val_loss: 0.0000e+00\nEpoch 43/50\n\u001b[1m4254/4254\u001b[0m \u001b[32m━━━━━━━━━━━━━━━━━━━━\u001b[0m\u001b[37m\u001b[0m \u001b[1m7s\u001b[0m 2ms/step - accuracy: 0.7667 - loss: 0.0000e+00 - val_accuracy: 0.7658 - val_loss: 0.0000e+00\nEpoch 44/50\n\u001b[1m4254/4254\u001b[0m \u001b[32m━━━━━━━━━━━━━━━━━━━━\u001b[0m\u001b[37m\u001b[0m \u001b[1m7s\u001b[0m 2ms/step - accuracy: 0.7682 - loss: 0.0000e+00 - val_accuracy: 0.7658 - val_loss: 0.0000e+00\nEpoch 45/50\n\u001b[1m4254/4254\u001b[0m \u001b[32m━━━━━━━━━━━━━━━━━━━━\u001b[0m\u001b[37m\u001b[0m \u001b[1m7s\u001b[0m 2ms/step - accuracy: 0.7690 - loss: 0.0000e+00 - val_accuracy: 0.7658 - val_loss: 0.0000e+00\nEpoch 46/50\n\u001b[1m4254/4254\u001b[0m \u001b[32m━━━━━━━━━━━━━━━━━━━━\u001b[0m\u001b[37m\u001b[0m \u001b[1m7s\u001b[0m 2ms/step - accuracy: 0.7699 - loss: 0.0000e+00 - val_accuracy: 0.7658 - val_loss: 0.0000e+00\nEpoch 47/50\n\u001b[1m4254/4254\u001b[0m \u001b[32m━━━━━━━━━━━━━━━━━━━━\u001b[0m\u001b[37m\u001b[0m \u001b[1m7s\u001b[0m 2ms/step - accuracy: 0.7664 - loss: 0.0000e+00 - val_accuracy: 0.7658 - val_loss: 0.0000e+00\nEpoch 48/50\n\u001b[1m4254/4254\u001b[0m \u001b[32m━━━━━━━━━━━━━━━━━━━━\u001b[0m\u001b[37m\u001b[0m \u001b[1m7s\u001b[0m 2ms/step - accuracy: 0.7666 - loss: 0.0000e+00 - val_accuracy: 0.7658 - val_loss: 0.0000e+00\nEpoch 49/50\n\u001b[1m4254/4254\u001b[0m \u001b[32m━━━━━━━━━━━━━━━━━━━━\u001b[0m\u001b[37m\u001b[0m \u001b[1m7s\u001b[0m 2ms/step - accuracy: 0.7688 - loss: 0.0000e+00 - val_accuracy: 0.7658 - val_loss: 0.0000e+00\nEpoch 50/50\n\u001b[1m4254/4254\u001b[0m \u001b[32m━━━━━━━━━━━━━━━━━━━━\u001b[0m\u001b[37m\u001b[0m \u001b[1m7s\u001b[0m 2ms/step - accuracy: 0.7711 - loss: 0.0000e+00 - val_accuracy: 0.7658 - val_loss: 0.0000e+00\n",
          "output_type": "stream"
        }
      ],
      "execution_count": null
    },
    {
      "cell_type": "code",
      "source": [
        "loss, accuracy = model.evaluate(X_test, y_test, verbose=0)\n",
        "print(f\"Test Accuracy: {accuracy * 100:.2f}%\")"
      ],
      "metadata": {
        "trusted": true,
        "execution": {
          "iopub.status.busy": "2025-04-21T04:03:21.237025Z",
          "iopub.execute_input": "2025-04-21T04:03:21.237338Z",
          "iopub.status.idle": "2025-04-21T04:03:22.429809Z",
          "shell.execute_reply.started": "2025-04-21T04:03:21.237311Z",
          "shell.execute_reply": "2025-04-21T04:03:22.42873Z"
        },
        "id": "8TD-qHx7zy6D",
        "outputId": "122edd34-efc7-4bb3-fd11-efa56d7ae607"
      },
      "outputs": [
        {
          "name": "stdout",
          "text": "Test Accuracy: 76.67%\n",
          "output_type": "stream"
        }
      ],
      "execution_count": null
    },
    {
      "cell_type": "markdown",
      "source": [
        "**2. Deep Learning model using pytorch**"
      ],
      "metadata": {
        "id": "ZF0FGPI7zy6D"
      }
    },
    {
      "cell_type": "code",
      "source": [
        "# Define Neural Network Model\n",
        "class ANNModel(nn.Module):\n",
        "    def __init__(self, input_size):\n",
        "        super(ANNModel, self).__init__()\n",
        "        self.fc1 = nn.Linear(input_size, 64)\n",
        "        self.relu = nn.ReLU()\n",
        "        self.fc2 = nn.Linear(64, 32)\n",
        "        self.fc3 = nn.Linear(32, 2)  # Binary classification (Benign/Malignant)\n",
        "        self.softmax = nn.Softmax(dim=1)\n",
        "\n",
        "    def forward(self, x):\n",
        "        x = self.fc1(x)\n",
        "        x = self.relu(x)\n",
        "        x = self.fc2(x)\n",
        "        x = self.relu(x)\n",
        "        x = self.fc3(x)\n",
        "        return self.softmax(x)"
      ],
      "metadata": {
        "trusted": true,
        "execution": {
          "iopub.status.busy": "2025-04-21T03:49:56.015135Z",
          "iopub.execute_input": "2025-04-21T03:49:56.015375Z",
          "iopub.status.idle": "2025-04-21T03:49:56.02986Z",
          "shell.execute_reply.started": "2025-04-21T03:49:56.015351Z",
          "shell.execute_reply": "2025-04-21T03:49:56.028858Z"
        },
        "id": "qXeDP4WRzy6D"
      },
      "outputs": [],
      "execution_count": null
    },
    {
      "cell_type": "code",
      "source": [
        "# Initialize model\n",
        "input_size = X_train.shape[1]\n",
        "model = ANNModel(input_size)"
      ],
      "metadata": {
        "trusted": true,
        "execution": {
          "iopub.status.busy": "2025-04-21T03:49:56.030572Z",
          "iopub.execute_input": "2025-04-21T03:49:56.030853Z",
          "iopub.status.idle": "2025-04-21T03:49:56.058589Z",
          "shell.execute_reply.started": "2025-04-21T03:49:56.03082Z",
          "shell.execute_reply": "2025-04-21T03:49:56.057734Z"
        },
        "id": "z9nkx5ylzy6D"
      },
      "outputs": [],
      "execution_count": null
    },
    {
      "cell_type": "code",
      "source": [
        "# Define Loss and Optimizer\n",
        "criterion = nn.CrossEntropyLoss()\n",
        "optimizer = optim.Adam(model.parameters(), lr=0.001)"
      ],
      "metadata": {
        "trusted": true,
        "execution": {
          "iopub.status.busy": "2025-04-21T03:49:56.059392Z",
          "iopub.execute_input": "2025-04-21T03:49:56.060192Z",
          "iopub.status.idle": "2025-04-21T03:49:57.988145Z",
          "shell.execute_reply.started": "2025-04-21T03:49:56.060136Z",
          "shell.execute_reply": "2025-04-21T03:49:57.986808Z"
        },
        "id": "BZCdEiezzy6D"
      },
      "outputs": [],
      "execution_count": null
    },
    {
      "cell_type": "markdown",
      "source": [
        "# Training"
      ],
      "metadata": {
        "id": "cJkGFqsrzy6D"
      }
    },
    {
      "cell_type": "code",
      "source": [
        "# Train the model\n",
        "epochs = 20\n",
        "losses = []\n",
        "for epoch in range(epochs):\n",
        "    model.train()\n",
        "    epoch_loss = 0.0\n",
        "    for inputs, labels in train_loader:\n",
        "        optimizer.zero_grad()\n",
        "        outputs = model(inputs)\n",
        "        loss = criterion(outputs, labels)\n",
        "        loss.backward()\n",
        "        optimizer.step()\n",
        "        epoch_loss += loss.item()\n",
        "    losses.append(epoch_loss / len(train_loader))\n",
        "    print(f\"Epoch {epoch+1}/{epochs}, Loss: {epoch_loss/len(train_loader):.4f}\")"
      ],
      "metadata": {
        "trusted": true,
        "execution": {
          "iopub.status.busy": "2025-04-21T03:49:57.989178Z",
          "iopub.execute_input": "2025-04-21T03:49:57.989709Z",
          "iopub.status.idle": "2025-04-21T03:51:51.803699Z",
          "shell.execute_reply.started": "2025-04-21T03:49:57.989678Z",
          "shell.execute_reply": "2025-04-21T03:51:51.802758Z"
        },
        "id": "TWtHHUv_zy6E",
        "outputId": "15641a81-342d-4bc3-b89d-a7549971d974"
      },
      "outputs": [
        {
          "name": "stdout",
          "text": "Epoch 1/20, Loss: 0.4877\nEpoch 2/20, Loss: 0.4851\nEpoch 3/20, Loss: 0.4851\nEpoch 4/20, Loss: 0.4850\nEpoch 5/20, Loss: 0.4850\nEpoch 6/20, Loss: 0.4849\nEpoch 7/20, Loss: 0.4849\nEpoch 8/20, Loss: 0.4848\nEpoch 9/20, Loss: 0.4848\nEpoch 10/20, Loss: 0.4848\nEpoch 11/20, Loss: 0.4848\nEpoch 12/20, Loss: 0.4847\nEpoch 13/20, Loss: 0.4846\nEpoch 14/20, Loss: 0.4846\nEpoch 15/20, Loss: 0.4846\nEpoch 16/20, Loss: 0.4845\nEpoch 17/20, Loss: 0.4845\nEpoch 18/20, Loss: 0.4844\nEpoch 19/20, Loss: 0.4844\nEpoch 20/20, Loss: 0.4843\n",
          "output_type": "stream"
        }
      ],
      "execution_count": null
    },
    {
      "cell_type": "code",
      "source": [
        "# Plot training loss\n",
        "plt.figure()\n",
        "plt.plot(range(1, 21), losses, marker='o', label='Training Loss')\n",
        "plt.xticks(range(1, 21))\n",
        "plt.xlabel('Epoch')\n",
        "plt.ylabel('Loss')\n",
        "plt.title('Training Loss Over Epochs')\n",
        "plt.legend()\n",
        "# plt.grid(True)\n",
        "plt.show()"
      ],
      "metadata": {
        "trusted": true,
        "execution": {
          "iopub.status.busy": "2025-04-21T03:51:51.80451Z",
          "iopub.execute_input": "2025-04-21T03:51:51.80476Z",
          "iopub.status.idle": "2025-04-21T03:51:52.060521Z",
          "shell.execute_reply.started": "2025-04-21T03:51:51.804743Z",
          "shell.execute_reply": "2025-04-21T03:51:52.05966Z"
        },
        "id": "cF07cAuZzy6E",
        "outputId": "00ef2b6a-f621-48b9-9e5d-ffe937bceb62"
      },
      "outputs": [
        {
          "output_type": "display_data",
          "data": {
            "text/plain": "<Figure size 640x480 with 1 Axes>",
            "image/png": "[encoded data removed]"
          },
          "metadata": {}
        }
      ],
      "execution_count": null
    },
    {
      "cell_type": "markdown",
      "source": [
        "# Evaluate Model"
      ],
      "metadata": {
        "id": "boLEwtMPzy6E"
      }
    },
    {
      "cell_type": "code",
      "source": [
        "# Evaluate model\n",
        "model.eval()\n",
        "y_pred = []\n",
        "y_true = []\n",
        "with torch.no_grad():\n",
        "    for inputs, labels in test_loader:\n",
        "        outputs = model(inputs)\n",
        "        _, predicted = torch.max(outputs, 1)\n",
        "        y_pred.extend(predicted.cpu().numpy())\n",
        "        y_true.extend(labels.cpu().numpy())"
      ],
      "metadata": {
        "trusted": true,
        "execution": {
          "iopub.status.busy": "2025-04-21T03:51:52.061284Z",
          "iopub.execute_input": "2025-04-21T03:51:52.061507Z",
          "iopub.status.idle": "2025-04-21T03:51:52.530318Z",
          "shell.execute_reply.started": "2025-04-21T03:51:52.061482Z",
          "shell.execute_reply": "2025-04-21T03:51:52.529593Z"
        },
        "id": "NFOTZ3jkzy6E"
      },
      "outputs": [],
      "execution_count": null
    },
    {
      "cell_type": "markdown",
      "source": [
        "# Classification Report & Confusion Matrix"
      ],
      "metadata": {
        "id": "n7I9U8xGzy6E"
      }
    },
    {
      "cell_type": "code",
      "source": [
        "# Classification Report\n",
        "print('Classification Report:')\n",
        "print(classification_report(y_true, y_pred, target_names=['Benign', 'Malignant']))"
      ],
      "metadata": {
        "trusted": true,
        "execution": {
          "iopub.status.busy": "2025-04-21T03:51:52.5312Z",
          "iopub.execute_input": "2025-04-21T03:51:52.531475Z",
          "iopub.status.idle": "2025-04-21T03:51:52.59151Z",
          "shell.execute_reply.started": "2025-04-21T03:51:52.531448Z",
          "shell.execute_reply": "2025-04-21T03:51:52.590535Z"
        },
        "id": "zTUvmkSlzy6E",
        "outputId": "c57cca26-0850-49ae-e3a5-37fa2c32d97e"
      },
      "outputs": [
        {
          "name": "stdout",
          "text": "Classification Report:\n              precision    recall  f1-score   support\n\n      Benign       0.85      0.94      0.89     32615\n   Malignant       0.69      0.45      0.54      9924\n\n    accuracy                           0.83     42539\n   macro avg       0.77      0.69      0.72     42539\nweighted avg       0.81      0.83      0.81     42539\n\n",
          "output_type": "stream"
        }
      ],
      "execution_count": null
    },
    {
      "cell_type": "code",
      "source": [
        "# Confusion Matrix\n",
        "plt.figure()\n",
        "cm = confusion_matrix(y_true, y_pred)\n",
        "disp = ConfusionMatrixDisplay(confusion_matrix=cm, display_labels=['Benign', 'Malignant'])\n",
        "disp.plot(cmap='Blues')\n",
        "plt.show()"
      ],
      "metadata": {
        "trusted": true,
        "execution": {
          "iopub.status.busy": "2025-04-21T03:51:52.592195Z",
          "iopub.execute_input": "2025-04-21T03:51:52.592427Z",
          "iopub.status.idle": "2025-04-21T03:51:52.751554Z",
          "shell.execute_reply.started": "2025-04-21T03:51:52.592407Z",
          "shell.execute_reply": "2025-04-21T03:51:52.750653Z"
        },
        "id": "uTyzNPLTzy6E",
        "outputId": "7e83bbf0-5607-44f2-f26f-f5ed1f06acae"
      },
      "outputs": [
        {
          "output_type": "display_data",
          "data": {
            "text/plain": "<Figure size 640x480 with 0 Axes>"
          },
          "metadata": {}
        },
        {
          "output_type": "display_data",
          "data": {
            "text/plain": "<Figure size 640x480 with 2 Axes>",
            "image/png": "[encoded data removed]"
          },
          "metadata": {}
        }
      ],
      "execution_count": null
    },
    {
      "cell_type": "code",
      "source": [
        "# Visualize Class Distribution with Seaborn\n",
        "plt.figure()\n",
        "sns.countplot(x=pd.Series(y_true), palette='pastel')\n",
        "plt.title('Test Data Class Distribution')\n",
        "plt.xlabel('Diagnosis (0: Benign, 1: Malignant)')\n",
        "plt.ylabel('Count')\n",
        "plt.show()"
      ],
      "metadata": {
        "trusted": true,
        "execution": {
          "iopub.status.busy": "2025-04-21T03:51:52.752206Z",
          "iopub.execute_input": "2025-04-21T03:51:52.752474Z",
          "iopub.status.idle": "2025-04-21T03:51:52.930395Z",
          "shell.execute_reply.started": "2025-04-21T03:51:52.752452Z",
          "shell.execute_reply": "2025-04-21T03:51:52.929592Z"
        },
        "id": "rAlhNWSvzy6F",
        "outputId": "4d6482d4-c138-4af3-e0bd-6040979a391f"
      },
      "outputs": [
        {
          "output_type": "display_data",
          "data": {
            "text/plain": "<Figure size 640x480 with 1 Axes>",
            "image/png": "[encoded data removed]"
          },
          "metadata": {}
        }
      ],
      "execution_count": null
    }
  ]
}