{
  "nbformat": 4,
  "nbformat_minor": 0,
  "metadata": {
    "colab": {
      "provenance": [],
      "gpuType": "T4",
      "authorship_tag": "ABX9TyPNxMip/L0ze+7b3Z9c4xwA",
      "include_colab_link": true
    },
    "kernelspec": {
      "name": "python3",
      "display_name": "Python 3"
    },
    "language_info": {
      "name": "python"
    },
    "accelerator": "GPU"
  },
  "cells": [
    {
      "cell_type": "markdown",
      "metadata": {
        "id": "view-in-github",
        "colab_type": "text"
      },
      "source": [
        "<a href=\"https://colab.research.google.com/github/avikumart/LLM-GenAI-Transformers-Notebooks/blob/main/DeepLearningFiles/CNN_image_classification_using_PyTorch.ipynb\" target=\"_parent\"><img src=\"https://colab.research.google.com/assets/colab-badge.svg\" alt=\"Open In Colab\"/></a>"
      ]
    },
    {
      "cell_type": "code",
      "execution_count": 24,
      "metadata": {
        "id": "t46n8sVYlFy_"
      },
      "outputs": [],
      "source": [
        "import torch\n",
        "import torch.nn as nn\n",
        "import torch.optim as optim\n",
        "from torch.autograd import Variable\n",
        "import torch.nn.functional as F\n",
        "from torch.utils.data import DataLoader\n",
        "import torchvision.datasets as datasets\n",
        "import torchvision.transforms as transforms\n",
        "import os\n",
        "import cv2\n",
        "from tqdm import tqdm\n",
        "from sklearn.utils import shuffle\n",
        "from skimage.io import imread, imshow\n",
        "import numpy as np\n",
        "import matplotlib.pyplot as plt\n",
        "import pandas as pd"
      ]
    },
    {
      "cell_type": "code",
      "source": [
        "from google.colab import drive\n",
        "drive.mount(\"/content/drive\")"
      ],
      "metadata": {
        "colab": {
          "base_uri": "https://localhost:8080/"
        },
        "id": "gskSA_uClREL",
        "outputId": "8ddee7e2-3f7a-49d8-9676-45732639cb24"
      },
      "execution_count": 5,
      "outputs": [
        {
          "output_type": "stream",
          "name": "stdout",
          "text": [
            "Mounted at /content/drive\n"
          ]
        }
      ]
    },
    {
      "cell_type": "code",
      "source": [
        "os.chdir(\"/content/drive/MyDrive/GL_Deeplearning_notebooks/CV_w1/\")"
      ],
      "metadata": {
        "id": "7pAehVLXnR5L"
      },
      "execution_count": 6,
      "outputs": []
    },
    {
      "cell_type": "code",
      "source": [
        "!ls"
      ],
      "metadata": {
        "colab": {
          "base_uri": "https://localhost:8080/"
        },
        "id": "q91ZHPqfnzZb",
        "outputId": "c25a1365-7a5e-4000-b6a0-4897483343bf"
      },
      "execution_count": 7,
      "outputs": [
        {
          "output_type": "stream",
          "name": "stdout",
          "text": [
            "casestudy_flowers_classifier.ipynb  Duck_image.jpg  flowers.zip     Week1.ipynb\n",
            "classifier.h5\t\t\t    flowers\t    my_model.keras\n"
          ]
        }
      ]
    },
    {
      "cell_type": "code",
      "source": [
        "# Load the dataset\n",
        "train_dir = \"/content/drive/MyDrive/GL_Deeplearning_notebooks/CV_w1/flowers/train\"\n",
        "test_dir = \"/content/drive/MyDrive/GL_Deeplearning_notebooks/CV_w1/flowers/test\"\n",
        "\n",
        "# image classes\n",
        "classes = os.listdir(train_dir)\n",
        "print(classes)\n",
        "\n",
        "# assing class labels\n",
        "class_labels = {cls: idx for idx, cls in enumerate(classes)}\n",
        "print(class_labels)"
      ],
      "metadata": {
        "colab": {
          "base_uri": "https://localhost:8080/"
        },
        "id": "30y3brDioiwv",
        "outputId": "0c986f92-771a-466a-be68-804cb307c956"
      },
      "execution_count": 10,
      "outputs": [
        {
          "output_type": "stream",
          "name": "stdout",
          "text": [
            "['tulip', 'daisy', 'dandelion', 'rose', 'sunflower']\n",
            "{'tulip': 0, 'daisy': 1, 'dandelion': 2, 'rose': 3, 'sunflower': 4}\n"
          ]
        }
      ]
    },
    {
      "cell_type": "code",
      "source": [
        "train_image = []\n",
        "train_label = []\n",
        "\n",
        "for folder in os.listdir(train_dir):\n",
        "    label = class_labels[folder]\n",
        "    for file in tqdm(os.listdir(os.path.join(train_dir, folder))):\n",
        "        img_path = os.path.join(train_dir, folder, file)\n",
        "        img = cv2.imread(img_path)\n",
        "        img = cv2.cvtColor(img, cv2.COLOR_BGR2RGB)\n",
        "        img = cv2.resize(img, (64, 64))\n",
        "        train_image.append(img)\n",
        "        train_label.append(label)"
      ],
      "metadata": {
        "colab": {
          "base_uri": "https://localhost:8080/"
        },
        "id": "ddInLRfhqj57",
        "outputId": "5414c132-8b01-497c-8b60-5cea3fd18a0b"
      },
      "execution_count": 12,
      "outputs": [
        {
          "output_type": "stream",
          "name": "stderr",
          "text": [
            "100%|██████████| 884/884 [00:22<00:00, 39.36it/s] \n",
            "100%|██████████| 669/669 [00:12<00:00, 53.67it/s] \n",
            "100%|██████████| 952/952 [00:18<00:00, 51.33it/s] \n",
            "100%|██████████| 684/684 [00:16<00:00, 42.46it/s] \n",
            "100%|██████████| 634/634 [00:12<00:00, 48.79it/s] \n"
          ]
        }
      ]
    },
    {
      "cell_type": "code",
      "source": [
        "len(train_image), len(train_label)"
      ],
      "metadata": {
        "colab": {
          "base_uri": "https://localhost:8080/"
        },
        "id": "810mlo6esqeW",
        "outputId": "54483b48-d68d-4b3b-d49b-d436be330c92"
      },
      "execution_count": 13,
      "outputs": [
        {
          "output_type": "execute_result",
          "data": {
            "text/plain": [
              "(3823, 3823)"
            ]
          },
          "metadata": {},
          "execution_count": 13
        }
      ]
    },
    {
      "cell_type": "code",
      "source": [
        "test_image = []\n",
        "test_label = []\n",
        "\n",
        "for folder in os.listdir(test_dir):\n",
        "    label = class_labels[folder]\n",
        "    for file in tqdm(os.listdir(os.path.join(test_dir, folder))):\n",
        "        img_path = os.path.join(test_dir, folder, file)\n",
        "        img = cv2.imread(img_path)\n",
        "        img = cv2.cvtColor(img, cv2.COLOR_BGR2RGB)\n",
        "        img = cv2.resize(img, (64, 64))\n",
        "        test_image.append(img)\n",
        "        test_label.append(label)"
      ],
      "metadata": {
        "colab": {
          "base_uri": "https://localhost:8080/"
        },
        "id": "jDEuGGjYsTnV",
        "outputId": "241fc097-822d-4549-def2-f65cf159d7d6"
      },
      "execution_count": 15,
      "outputs": [
        {
          "output_type": "stream",
          "name": "stderr",
          "text": [
            "100%|██████████| 100/100 [00:02<00:00, 44.05it/s]\n",
            "100%|██████████| 100/100 [00:01<00:00, 52.38it/s]\n",
            "100%|██████████| 100/100 [00:02<00:00, 49.38it/s]\n",
            "100%|██████████| 100/100 [00:02<00:00, 38.42it/s]\n",
            "100%|██████████| 100/100 [00:02<00:00, 47.73it/s]\n"
          ]
        }
      ]
    },
    {
      "cell_type": "code",
      "source": [
        "# print the shape of the training and test data\n",
        "print(\"Training data shape:\", np.array(train_image).shape)\n",
        "print(\"Training label shape:\", np.array(train_label).shape)\n",
        "\n",
        "print(\"Test data shape:\", np.array(test_image).shape)\n",
        "print(\"Test label shape:\", np.array(test_label).shape)"
      ],
      "metadata": {
        "colab": {
          "base_uri": "https://localhost:8080/"
        },
        "id": "dDxj4hqKs-zp",
        "outputId": "67763179-979b-43b0-e549-90d2cf4ac517"
      },
      "execution_count": 19,
      "outputs": [
        {
          "output_type": "stream",
          "name": "stdout",
          "text": [
            "Training data shape: (3823, 64, 64, 3)\n",
            "Training label shape: (3823,)\n",
            "Test data shape: (500, 64, 64, 3)\n",
            "Test label shape: (500,)\n"
          ]
        }
      ]
    },
    {
      "cell_type": "code",
      "source": [
        "# shuffle the train nad test datasets\n",
        "(train_images, train_labels) = shuffle(np.array(train_image), np.array(train_label), random_state=45)\n",
        "(test_images, test_labels) = shuffle(np.array(test_image), np.array(test_label), random_state=45)"
      ],
      "metadata": {
        "id": "gDcz07j5tUro"
      },
      "execution_count": 20,
      "outputs": []
    },
    {
      "cell_type": "code",
      "source": [
        "train_images.shape, train_labels.shape, test_images.shape, test_labels.shape"
      ],
      "metadata": {
        "colab": {
          "base_uri": "https://localhost:8080/"
        },
        "id": "Xg6fNGZitpqX",
        "outputId": "e5149f35-d5a6-4866-bec7-8b7c3da22dfa"
      },
      "execution_count": 21,
      "outputs": [
        {
          "output_type": "execute_result",
          "data": {
            "text/plain": [
              "((3823, 64, 64, 3), (3823,), (500, 64, 64, 3), (500,))"
            ]
          },
          "metadata": {},
          "execution_count": 21
        }
      ]
    },
    {
      "cell_type": "code",
      "source": [
        "# normalise the image and convert it into a tensor dataset\n",
        "train_images = train_images.astype(\"float32\") / 255.0\n",
        "test_images = test_images.astype(\"float32\") / 255.0\n",
        "\n",
        "# tensor dataset\n",
        "train = torch.utils.data.TensorDataset(torch.from_numpy(train_images), torch.from_numpy(train_labels))\n",
        "test = torch.utils.data.TensorDataset(torch.from_numpy(test_images), torch.from_numpy(test_labels))\n",
        "\n",
        "# pytorch tensor dataloader\n",
        "train_loader = torch.utils.data.DataLoader(train, batch_size=32, shuffle=True)\n",
        "test_loader = torch.utils.data.DataLoader(test, batch_size=32, shuffle=False)"
      ],
      "metadata": {
        "id": "cW9iJtCotyp4"
      },
      "execution_count": 22,
      "outputs": []
    },
    {
      "cell_type": "code",
      "source": [
        "# build the pytorch model\n",
        "n_iters = 5000\n",
        "n_epochs = n_iters / (len(train_images) / 32)\n",
        "epochs = int(n_epochs)\n",
        "print(\"No of epochs:\", epochs)"
      ],
      "metadata": {
        "colab": {
          "base_uri": "https://localhost:8080/"
        },
        "id": "JVOP_BYqn0aQ",
        "outputId": "3c8b1371-f33b-4978-86a3-b5d6574500a8"
      },
      "execution_count": 48,
      "outputs": [
        {
          "output_type": "stream",
          "name": "stdout",
          "text": [
            "No of epochs: 41\n"
          ]
        }
      ]
    },
    {
      "cell_type": "code",
      "source": [
        "class CNNmodel(nn.Module):\n",
        "  def __init__(self):\n",
        "    super(CNNmodel, self).__init__()\n",
        "    # convolution block\n",
        "    self.conv1 = nn.Conv2d(in_channels=3, out_channels=16, kernel_size=3, stride=1, padding=1)\n",
        "    self.conv2 = nn.Conv2d(in_channels=16, out_channels=32, kernel_size=3, stride=1, padding=1)\n",
        "    self.relu1 = nn.ReLU()\n",
        "    self.pool1 = nn.MaxPool2d(kernel_size=2, stride=2)\n",
        "\n",
        "    # convolution block 2\n",
        "    self.conv3 = nn.Conv2d(in_channels=32, out_channels=64, kernel_size=3, stride=1, padding=1)\n",
        "    self.conv4 = nn.Conv2d(in_channels=64, out_channels=128, kernel_size=3, stride=1, padding=1)\n",
        "    self.relu2 = nn.ReLU()\n",
        "    self.pool2 = nn.MaxPool2d(kernel_size=2, stride=2)\n",
        "\n",
        "    # convolution bloack 3 to reduce the channels and flatten the channels\n",
        "    self.conv5 = nn.Conv2d(in_channels=128, out_channels=128, kernel_size=3, stride=1, padding=1)\n",
        "    self.conv6 = nn.Conv2d(in_channels=128, out_channels=64, kernel_size=3, stride=1, padding=1)\n",
        "    self.relu3 = nn.ReLU()\n",
        "    self.pool3 = nn.MaxPool2d(kernel_size=2, stride=2)\n",
        "    self.flatten = nn.Flatten()\n",
        "\n",
        "    self.fc1 = nn.Linear(in_features=64*8*8, out_features=128)\n",
        "    self.relu4 = nn.ReLU()\n",
        "\n",
        "    # output layer\n",
        "    self.fc2 = nn.Linear(in_features=128, out_features=5)\n",
        "\n",
        "  def forward(self,x):\n",
        "    x = self.conv1(x)\n",
        "    x = self.conv2(x)\n",
        "    x = self.relu1(x)\n",
        "    x = self.pool1(x)\n",
        "    x = self.conv3(x)\n",
        "    x = self.conv4(x)\n",
        "    x = self.relu2(x)\n",
        "    x = self.pool2(x)\n",
        "    x = self.conv5(x)\n",
        "    x = self.conv6(x)\n",
        "    x = self.relu3(x)\n",
        "    x = self.pool3(x)\n",
        "    x = self.flatten(x)\n",
        "    x = self.fc1(x)\n",
        "    x = self.relu4(x)\n",
        "    x = self.fc2(x)\n",
        "    return x"
      ],
      "metadata": {
        "id": "hLWr7veAuwqN"
      },
      "execution_count": 49,
      "outputs": []
    },
    {
      "cell_type": "code",
      "source": [
        "# Create model\n",
        "model = CNNmodel()\n",
        "\n",
        "# create loss\n",
        "loss_fn = nn.CrossEntropyLoss()\n",
        "\n",
        "# create optimizer\n",
        "optimizer = torch.optim.Adam(model.parameters(), lr=0.001)"
      ],
      "metadata": {
        "id": "4ToCRCB7y00z"
      },
      "execution_count": 50,
      "outputs": []
    },
    {
      "cell_type": "code",
      "source": [
        "model.cuda()"
      ],
      "metadata": {
        "colab": {
          "base_uri": "https://localhost:8080/"
        },
        "id": "ZBfE5Zhj0O3H",
        "outputId": "c6ea5e28-7dc3-4168-e700-509b36dd31ca"
      },
      "execution_count": 51,
      "outputs": [
        {
          "output_type": "execute_result",
          "data": {
            "text/plain": [
              "CNNmodel(\n",
              "  (conv1): Conv2d(3, 16, kernel_size=(3, 3), stride=(1, 1), padding=(1, 1))\n",
              "  (conv2): Conv2d(16, 32, kernel_size=(3, 3), stride=(1, 1), padding=(1, 1))\n",
              "  (relu1): ReLU()\n",
              "  (pool1): MaxPool2d(kernel_size=2, stride=2, padding=0, dilation=1, ceil_mode=False)\n",
              "  (conv3): Conv2d(32, 64, kernel_size=(3, 3), stride=(1, 1), padding=(1, 1))\n",
              "  (conv4): Conv2d(64, 128, kernel_size=(3, 3), stride=(1, 1), padding=(1, 1))\n",
              "  (relu2): ReLU()\n",
              "  (pool2): MaxPool2d(kernel_size=2, stride=2, padding=0, dilation=1, ceil_mode=False)\n",
              "  (conv5): Conv2d(128, 128, kernel_size=(3, 3), stride=(1, 1), padding=(1, 1))\n",
              "  (conv6): Conv2d(128, 64, kernel_size=(3, 3), stride=(1, 1), padding=(1, 1))\n",
              "  (relu3): ReLU()\n",
              "  (pool3): MaxPool2d(kernel_size=2, stride=2, padding=0, dilation=1, ceil_mode=False)\n",
              "  (flatten): Flatten(start_dim=1, end_dim=-1)\n",
              "  (fc1): Linear(in_features=4096, out_features=128, bias=True)\n",
              "  (relu4): ReLU()\n",
              "  (fc2): Linear(in_features=128, out_features=5, bias=True)\n",
              ")"
            ]
          },
          "metadata": {},
          "execution_count": 51
        }
      ]
    },
    {
      "cell_type": "code",
      "source": [
        "import torch\n",
        "\n",
        "# Check if GPU is available\n",
        "if torch.cuda.is_available():\n",
        "    print(\"GPU is available\")\n",
        "    print(\"Device name:\", torch.cuda.get_device_name(0))\n",
        "else:\n",
        "    print(\"GPU not available, using CPU\")"
      ],
      "metadata": {
        "colab": {
          "base_uri": "https://localhost:8080/"
        },
        "id": "yUM9--Lw0mkU",
        "outputId": "334788fc-0b05-439a-997f-62e2510442be"
      },
      "execution_count": 52,
      "outputs": [
        {
          "output_type": "stream",
          "name": "stdout",
          "text": [
            "GPU is available\n",
            "Device name: Tesla T4\n"
          ]
        }
      ]
    },
    {
      "cell_type": "code",
      "source": [
        "device = torch.device(\"cuda\" if torch.cuda.is_available() else \"cpu\")\n",
        "print(\"Using device:\", device)"
      ],
      "metadata": {
        "colab": {
          "base_uri": "https://localhost:8080/"
        },
        "id": "7RMglmec0phr",
        "outputId": "1f694dd6-09f8-4af0-fc9b-2d3344375ac9"
      },
      "execution_count": 53,
      "outputs": [
        {
          "output_type": "stream",
          "name": "stdout",
          "text": [
            "Using device: cuda\n"
          ]
        }
      ]
    },
    {
      "cell_type": "code",
      "source": [
        "count = 0\n",
        "iter_li = []\n",
        "acc_li = []\n",
        "loss_li = []\n",
        "for epoch in range(epochs):\n",
        "  for i, (images,labels) in enumerate(train_loader):\n",
        "\n",
        "     image = Variable(images.view(images.shape[0],3,64,64))\n",
        "     label = Variable(labels)\n",
        "\n",
        "     if torch.cuda.is_available():\n",
        "       image = image.cuda()\n",
        "       label = label.cuda()\n",
        "\n",
        "     # initiate the optim\n",
        "     optimizer.zero_grad()\n",
        "     # train the model\n",
        "     output = model(image)\n",
        "     loss = loss_fn(output,label)\n",
        "     loss.backward()\n",
        "     optimizer.step()\n",
        "     count += 1\n",
        "\n",
        "     if count % 50 == 0:\n",
        "       correct = 0\n",
        "       total = 0\n",
        "       for images,labels in test_loader:\n",
        "         image = Variable(images.view(images.shape[0],3,64,64))\n",
        "         label = Variable(labels)\n",
        "         if torch.cuda.is_available():\n",
        "           image = image.cuda()\n",
        "           label = label.cuda()\n",
        "         output = model(image)\n",
        "         _,predicted = torch.max(output.data,1)\n",
        "         total += label.size(0)\n",
        "         correct += (predicted == label).sum()\n",
        "       iter_li.append(count)\n",
        "       acc_li.append(100*correct/total)\n",
        "       loss_li.append(loss.data)\n",
        "     if count % 100 == 0:\n",
        "      print('Iteration: {}. Loss: {}. Accuracy: {}'.format(count, loss.data, 100*correct/total))"
      ],
      "metadata": {
        "colab": {
          "base_uri": "https://localhost:8080/"
        },
        "id": "MIAkPdt5z2wU",
        "outputId": "43808612-7981-4c73-d231-978f191c8a80"
      },
      "execution_count": 54,
      "outputs": [
        {
          "output_type": "stream",
          "name": "stdout",
          "text": [
            "Iteration: 100. Loss: 1.5737565755844116. Accuracy: 22.200000762939453\n",
            "Iteration: 200. Loss: 1.2252388000488281. Accuracy: 33.60000228881836\n",
            "Iteration: 300. Loss: 1.5721921920776367. Accuracy: 40.20000076293945\n",
            "Iteration: 400. Loss: 1.6798710823059082. Accuracy: 45.20000076293945\n",
            "Iteration: 500. Loss: 1.4960287809371948. Accuracy: 41.20000076293945\n",
            "Iteration: 600. Loss: 0.9203051328659058. Accuracy: 45.400001525878906\n",
            "Iteration: 700. Loss: 1.252207636833191. Accuracy: 46.60000228881836\n",
            "Iteration: 800. Loss: 1.0891200304031372. Accuracy: 52.60000228881836\n",
            "Iteration: 900. Loss: 1.0177085399627686. Accuracy: 51.20000076293945\n",
            "Iteration: 1000. Loss: 0.9849663972854614. Accuracy: 53.000003814697266\n",
            "Iteration: 1100. Loss: 1.086504340171814. Accuracy: 51.400001525878906\n",
            "Iteration: 1200. Loss: 1.1022870540618896. Accuracy: 53.000003814697266\n",
            "Iteration: 1300. Loss: 0.9334267377853394. Accuracy: 50.400001525878906\n",
            "Iteration: 1400. Loss: 0.6841486096382141. Accuracy: 54.000003814697266\n",
            "Iteration: 1500. Loss: 0.8439412117004395. Accuracy: 52.000003814697266\n",
            "Iteration: 1600. Loss: 0.6768107414245605. Accuracy: 51.20000076293945\n",
            "Iteration: 1700. Loss: 0.40937915444374084. Accuracy: 53.20000076293945\n",
            "Iteration: 1800. Loss: 0.905562162399292. Accuracy: 57.20000457763672\n",
            "Iteration: 1900. Loss: 0.743194580078125. Accuracy: 53.000003814697266\n",
            "Iteration: 2000. Loss: 0.6438352465629578. Accuracy: 51.60000228881836\n",
            "Iteration: 2100. Loss: 0.7740766406059265. Accuracy: 52.80000305175781\n",
            "Iteration: 2200. Loss: 0.25788816809654236. Accuracy: 52.60000228881836\n",
            "Iteration: 2300. Loss: 0.39940395951271057. Accuracy: 50.80000305175781\n",
            "Iteration: 2400. Loss: 0.8736191987991333. Accuracy: 50.400001525878906\n",
            "Iteration: 2500. Loss: 0.20461346209049225. Accuracy: 48.80000305175781\n",
            "Iteration: 2600. Loss: 0.29603469371795654. Accuracy: 51.400001525878906\n",
            "Iteration: 2700. Loss: 0.3824903070926666. Accuracy: 46.60000228881836\n",
            "Iteration: 2800. Loss: 0.13772158324718475. Accuracy: 53.000003814697266\n",
            "Iteration: 2900. Loss: 0.16404859721660614. Accuracy: 49.20000076293945\n",
            "Iteration: 3000. Loss: 0.24122315645217896. Accuracy: 52.20000076293945\n",
            "Iteration: 3100. Loss: 0.3844088017940521. Accuracy: 50.400001525878906\n",
            "Iteration: 3200. Loss: 0.08497124165296555. Accuracy: 51.60000228881836\n",
            "Iteration: 3300. Loss: 0.5596386194229126. Accuracy: 47.60000228881836\n",
            "Iteration: 3400. Loss: 0.04168817028403282. Accuracy: 51.20000076293945\n",
            "Iteration: 3500. Loss: 0.15927615761756897. Accuracy: 51.20000076293945\n",
            "Iteration: 3600. Loss: 0.00599279347807169. Accuracy: 51.20000076293945\n",
            "Iteration: 3700. Loss: 0.1268778294324875. Accuracy: 51.20000076293945\n",
            "Iteration: 3800. Loss: 0.11736338585615158. Accuracy: 49.000003814697266\n",
            "Iteration: 3900. Loss: 0.3931441903114319. Accuracy: 49.400001525878906\n",
            "Iteration: 4000. Loss: 0.16104404628276825. Accuracy: 51.400001525878906\n",
            "Iteration: 4100. Loss: 0.05086171254515648. Accuracy: 52.60000228881836\n",
            "Iteration: 4200. Loss: 0.06311943382024765. Accuracy: 49.20000076293945\n",
            "Iteration: 4300. Loss: 0.1752922683954239. Accuracy: 50.400001525878906\n",
            "Iteration: 4400. Loss: 0.01915876939892769. Accuracy: 50.80000305175781\n",
            "Iteration: 4500. Loss: 0.28003939986228943. Accuracy: 51.60000228881836\n",
            "Iteration: 4600. Loss: 0.15355944633483887. Accuracy: 50.400001525878906\n",
            "Iteration: 4700. Loss: 0.12396518886089325. Accuracy: 52.80000305175781\n",
            "Iteration: 4800. Loss: 0.04290436580777168. Accuracy: 49.80000305175781\n",
            "Iteration: 4900. Loss: 0.25956258177757263. Accuracy: 49.20000076293945\n"
          ]
        }
      ]
    },
    {
      "cell_type": "code",
      "source": [
        "# visualize the iteration and loss\n",
        "plt.plot(np.array(iter_li), np.array([loss.cpu().detach().numpy() for loss in loss_li]))\n",
        "plt.xlabel(\"Iteration\")\n",
        "plt.ylabel(\"Loss\")\n",
        "plt.show()"
      ],
      "metadata": {
        "colab": {
          "base_uri": "https://localhost:8080/",
          "height": 452
        },
        "id": "BablGgpQAODz",
        "outputId": "40c71978-1de5-496f-a558-c0474b1e568e"
      },
      "execution_count": 59,
      "outputs": [
        {
          "output_type": "display_data",
          "data": {
            "text/plain": [
              "<Figure size 640x480 with 1 Axes>"
            ],
            "image/png": "[encoded data removed]"
          },
          "metadata": {}
        }
      ]
    },
    {
      "cell_type": "code",
      "source": [
        "# visualize the iteration with accuracy\n",
        "plt.plot(np.array(iter_li), np.array([acc.cpu().detach().numpy() for acc in acc_li]))\n",
        "plt.xlabel(\"Iteration\")\n",
        "plt.ylabel(\"Accuracy\")\n",
        "plt.show()"
      ],
      "metadata": {
        "colab": {
          "base_uri": "https://localhost:8080/",
          "height": 449
        },
        "id": "DOV0pmZTASf_",
        "outputId": "610405e8-0c72-46f4-b614-0db7b0fbdb19"
      },
      "execution_count": 62,
      "outputs": [
        {
          "output_type": "display_data",
          "data": {
            "text/plain": [
              "<Figure size 640x480 with 1 Axes>"
            ],
            "image/png": "[encoded data removed]"
          },
          "metadata": {}
        }
      ]
    },
    {
      "cell_type": "code",
      "source": [
        "# predict of test data\n",
        "if torch.no_grad():\n",
        "  images = Variable(torch.Tensor(test_loader.dataset[0][0].view(1,3,64,64))).cuda()\n",
        "  labels = Variable(torch.Tensor(test_labels)).cuda()\n",
        "  preds = model(images)\n",
        "  _,predicted = torch.max(preds.data,1)\n",
        "  accuracy = np.sum(predicted.cpu().numpy() == labels.cpu().numpy()) / len(labels)\n",
        "  print(\"Accuracy:\", accuracy)"
      ],
      "metadata": {
        "colab": {
          "base_uri": "https://localhost:8080/"
        },
        "id": "-9v1rWaAITgJ",
        "outputId": "990f6025-8027-4614-e8a3-0291dec0583a"
      },
      "execution_count": 72,
      "outputs": [
        {
          "output_type": "stream",
          "name": "stdout",
          "text": [
            "Accuracy: 0.2\n"
          ]
        }
      ]
    }
  ]
}