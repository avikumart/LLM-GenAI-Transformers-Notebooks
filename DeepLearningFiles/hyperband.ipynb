{
  "nbformat": 4,
  "nbformat_minor": 0,
  "metadata": {
    "colab": {
      "provenance": [],
      "include_colab_link": true
    },
    "kernelspec": {
      "name": "python3",
      "display_name": "Python 3"
    },
    "language_info": {
      "name": "python"
    }
  },
  "cells": [
    {
      "cell_type": "markdown",
      "metadata": {
        "id": "view-in-github",
        "colab_type": "text"
      },
      "source": [
        "<a href=\"https://colab.research.google.com/github/avikumart/LLM-GenAI-Transformers-Notebooks/blob/main/DeepLearningFiles/hyperband.ipynb\" target=\"_parent\"><img src=\"https://colab.research.google.com/assets/colab-badge.svg\" alt=\"Open In Colab\"/></a>"
      ]
    },
    {
      "cell_type": "markdown",
      "metadata": {
        "id": "Jl_wnNYVIGcX"
      },
      "source": [
        "# Hyperband parameter search\n",
        "\n",
        "Code lightly adapted from https://homes.cs.washington.edu/~jamieson/hyperband.html"
      ]
    },
    {
      "cell_type": "code",
      "metadata": {
        "id": "o3UV7cGNFJ9q"
      },
      "source": [
        "import math\n",
        "import random\n",
        "import numpy\n",
        "\n",
        "def hyperband(max_iter, eta, random_hyperparameters, val_loss_after_running):\n",
        "  s_max = int(math.log10(max_iter)/math.log10(eta))\n",
        "  for s in reversed(range(s_max+1)):\n",
        "      n_configs = int(math.ceil(int((s_max+1)/(s+1))*eta**s))\n",
        "      n_iters = max_iter*eta**(-s)\n",
        "      print(f\"generating {n_configs} random configurations\")\n",
        "      configs = [random_hyperparameters() for _ in range(n_configs)]\n",
        "      for i in range(s+1):\n",
        "          n_configs_i = int(n_configs*eta**(-i))\n",
        "          n_iters_i = int(n_iters*eta**(i))\n",
        "          n_keep = int(n_configs_i/eta)\n",
        "          print(f\"running {n_configs_i:3d} configurations for {n_iters_i:3d} \"\n",
        "                f\"iterations, keeping the top {n_keep:2d}\")\n",
        "          val_losses = [val_loss_after_running(n_iters_i, params) for params in configs]\n",
        "          keep_indices = numpy.argsort(val_losses)[:n_keep]\n",
        "          configs = [configs[i] for i in keep_indices]\n"
      ],
      "execution_count": 2,
      "outputs": []
    },
    {
      "cell_type": "markdown",
      "metadata": {
        "id": "3f3zDFlGIUXC"
      },
      "source": [
        "Playground:"
      ]
    },
    {
      "cell_type": "code",
      "metadata": {
        "id": "2YLTArY2FgWe",
        "outputId": "e32b53ae-02f6-4d14-f0dd-650afa5a49d2",
        "colab": {
          "base_uri": "https://localhost:8080/"
        }
      },
      "source": [
        "hyperband(1000, 2, lambda: {}, lambda n, p: 1.0)"
      ],
      "execution_count": 5,
      "outputs": [
        {
          "output_type": "stream",
          "name": "stdout",
          "text": [
            "generating 512 random configurations\n",
            "running 512 configurations for   1 iterations, keeping the top 256\n",
            "running 256 configurations for   3 iterations, keeping the top 128\n",
            "running 128 configurations for   7 iterations, keeping the top 64\n",
            "running  64 configurations for  15 iterations, keeping the top 32\n",
            "running  32 configurations for  31 iterations, keeping the top 16\n",
            "running  16 configurations for  62 iterations, keeping the top  8\n",
            "running   8 configurations for 125 iterations, keeping the top  4\n",
            "running   4 configurations for 250 iterations, keeping the top  2\n",
            "running   2 configurations for 500 iterations, keeping the top  1\n",
            "running   1 configurations for 1000 iterations, keeping the top  0\n",
            "generating 256 random configurations\n",
            "running 256 configurations for   3 iterations, keeping the top 128\n",
            "running 128 configurations for   7 iterations, keeping the top 64\n",
            "running  64 configurations for  15 iterations, keeping the top 32\n",
            "running  32 configurations for  31 iterations, keeping the top 16\n",
            "running  16 configurations for  62 iterations, keeping the top  8\n",
            "running   8 configurations for 125 iterations, keeping the top  4\n",
            "running   4 configurations for 250 iterations, keeping the top  2\n",
            "running   2 configurations for 500 iterations, keeping the top  1\n",
            "running   1 configurations for 1000 iterations, keeping the top  0\n",
            "generating 128 random configurations\n",
            "running 128 configurations for   7 iterations, keeping the top 64\n",
            "running  64 configurations for  15 iterations, keeping the top 32\n",
            "running  32 configurations for  31 iterations, keeping the top 16\n",
            "running  16 configurations for  62 iterations, keeping the top  8\n",
            "running   8 configurations for 125 iterations, keeping the top  4\n",
            "running   4 configurations for 250 iterations, keeping the top  2\n",
            "running   2 configurations for 500 iterations, keeping the top  1\n",
            "running   1 configurations for 1000 iterations, keeping the top  0\n",
            "generating 64 random configurations\n",
            "running  64 configurations for  15 iterations, keeping the top 32\n",
            "running  32 configurations for  31 iterations, keeping the top 16\n",
            "running  16 configurations for  62 iterations, keeping the top  8\n",
            "running   8 configurations for 125 iterations, keeping the top  4\n",
            "running   4 configurations for 250 iterations, keeping the top  2\n",
            "running   2 configurations for 500 iterations, keeping the top  1\n",
            "running   1 configurations for 1000 iterations, keeping the top  0\n",
            "generating 32 random configurations\n",
            "running  32 configurations for  31 iterations, keeping the top 16\n",
            "running  16 configurations for  62 iterations, keeping the top  8\n",
            "running   8 configurations for 125 iterations, keeping the top  4\n",
            "running   4 configurations for 250 iterations, keeping the top  2\n",
            "running   2 configurations for 500 iterations, keeping the top  1\n",
            "running   1 configurations for 1000 iterations, keeping the top  0\n",
            "generating 32 random configurations\n",
            "running  32 configurations for  62 iterations, keeping the top 16\n",
            "running  16 configurations for 125 iterations, keeping the top  8\n",
            "running   8 configurations for 250 iterations, keeping the top  4\n",
            "running   4 configurations for 500 iterations, keeping the top  2\n",
            "running   2 configurations for 1000 iterations, keeping the top  1\n",
            "generating 16 random configurations\n",
            "running  16 configurations for 125 iterations, keeping the top  8\n",
            "running   8 configurations for 250 iterations, keeping the top  4\n",
            "running   4 configurations for 500 iterations, keeping the top  2\n",
            "running   2 configurations for 1000 iterations, keeping the top  1\n",
            "generating 12 random configurations\n",
            "running  12 configurations for 250 iterations, keeping the top  6\n",
            "running   6 configurations for 500 iterations, keeping the top  3\n",
            "running   3 configurations for 1000 iterations, keeping the top  1\n",
            "generating 10 random configurations\n",
            "running  10 configurations for 500 iterations, keeping the top  5\n",
            "running   5 configurations for 1000 iterations, keeping the top  2\n",
            "generating 10 random configurations\n",
            "running  10 configurations for 1000 iterations, keeping the top  5\n"
          ]
        }
      ]
    },
    {
      "cell_type": "code",
      "source": [],
      "metadata": {
        "id": "mHaLHXiufLWl"
      },
      "execution_count": null,
      "outputs": []
    }
  ]
}