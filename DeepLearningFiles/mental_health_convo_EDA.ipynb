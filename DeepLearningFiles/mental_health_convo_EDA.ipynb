{
  "cells": [
    {
      "cell_type": "markdown",
      "metadata": {
        "id": "view-in-github",
        "colab_type": "text"
      },
      "source": [
        "<a href=\"https://colab.research.google.com/github/avikumart/LLM-GenAI-Transformers-Notebooks/blob/main/DeepLearningFiles/mental_health_convo_EDA.ipynb\" target=\"_parent\"><img src=\"https://colab.research.google.com/assets/colab-badge.svg\" alt=\"Open In Colab\"/></a>"
      ]
    },
    {
      "cell_type": "code",
      "source": [
        "import kagglehub\n",
        "\n",
        "# Download latest version\n",
        "path = kagglehub.dataset_download(\"thedevastator/nlp-mental-health-conversations\")\n",
        "\n",
        "print(\"Path to dataset files:\", path)"
      ],
      "metadata": {
        "id": "ucQ-8EnyQ-_4"
      },
      "id": "ucQ-8EnyQ-_4",
      "execution_count": null,
      "outputs": []
    },
    {
      "cell_type": "code",
      "execution_count": null,
      "id": "0e61884c",
      "metadata": {
        "id": "0e61884c"
      },
      "outputs": [],
      "source": [
        "import pandas as pd\n",
        "import numpy as np\n",
        "import os\n",
        "\n",
        "df = pd.read_csv(os.path.join(path, \"train.csv\"))\n",
        "df.head()"
      ]
    },
    {
      "cell_type": "code",
      "execution_count": null,
      "id": "93ff5ec7",
      "metadata": {
        "id": "93ff5ec7"
      },
      "outputs": [],
      "source": [
        "# what are the unique values in the Contexrt column\n",
        "df['Context'].unique()"
      ]
    },
    {
      "cell_type": "code",
      "execution_count": null,
      "id": "5536a2c1",
      "metadata": {
        "id": "5536a2c1"
      },
      "outputs": [],
      "source": [
        "df[\"Context\"].nunique()"
      ]
    },
    {
      "cell_type": "code",
      "execution_count": null,
      "id": "e1338f34",
      "metadata": {
        "id": "e1338f34"
      },
      "outputs": [],
      "source": [
        "df[\"Response\"].nunique()"
      ]
    },
    {
      "cell_type": "code",
      "source": [
        "# finetuning the OS model\n",
        "!pip install transformers accelerate peft bitsandbytes datasets trl -q"
      ],
      "metadata": {
        "id": "BhFBBp0nRT0Y"
      },
      "id": "BhFBBp0nRT0Y",
      "execution_count": null,
      "outputs": []
    },
    {
      "cell_type": "code",
      "source": [
        "# from huggingface_hub import login\n",
        "# login()"
      ],
      "metadata": {
        "id": "jgGW_r71aX7f"
      },
      "id": "jgGW_r71aX7f",
      "execution_count": null,
      "outputs": []
    },
    {
      "cell_type": "code",
      "source": [
        "# Load model directly\n",
        "from transformers import AutoTokenizer, AutoModelForCausalLM\n",
        "\n",
        "model_name = \"google/gemma-2-2b-it\"\n",
        "tokenizer = AutoTokenizer.from_pretrained(model_name)\n",
        "model = AutoModelForCausalLM.from_pretrained(model_name, device_map=\"auto\")"
      ],
      "metadata": {
        "id": "okyGyrAdbjI0"
      },
      "id": "okyGyrAdbjI0",
      "execution_count": null,
      "outputs": []
    },
    {
      "cell_type": "code",
      "source": [
        "from datasets import Dataset\n",
        "text = \"You are a helpful mental health assistant answering following input to the output\"\n",
        "df[\"instruction\"] = text\n",
        "df[\"input\"] = df[\"Context\"]\n",
        "df[\"output\"] = df[\"Response\"]\n",
        "ndf = df[[\"instruction\",\"input\", \"output\"]]\n",
        "ndf.head()"
      ],
      "metadata": {
        "id": "dYuGl7cOh6WR"
      },
      "id": "dYuGl7cOh6WR",
      "execution_count": null,
      "outputs": []
    },
    {
      "cell_type": "code",
      "source": [
        "# Convert the dataset into a list of dictionaries\n",
        "dataset = Dataset.from_pandas(ndf)\n",
        "dataset"
      ],
      "metadata": {
        "id": "Hpsq7iJJkFMo"
      },
      "id": "Hpsq7iJJkFMo",
      "execution_count": null,
      "outputs": []
    },
    {
      "cell_type": "code",
      "source": [
        "# train and test split for the dataset\n",
        "dataset = dataset.train_test_split(test_size=0.2)\n",
        "dataset"
      ],
      "metadata": {
        "id": "B95FGkqtlIZG"
      },
      "id": "B95FGkqtlIZG",
      "execution_count": null,
      "outputs": []
    },
    {
      "cell_type": "code",
      "source": [
        "from peft import LoraConfig, get_peft_model, prepare_model_for_kbit_training\n",
        "from transformers import BitsAndBytesConfig\n",
        "\n",
        "# Quantization config for memory efficiency\n",
        "#bnb_config = BitsAndBytesConfig(\n",
        "#    load_in_4bit=True,\n",
        "#    bnb_4bit_quant_type=\"nf4\",\n",
        "#    bnb_4bit_compute_dtype=\"float16\",\n",
        "#)\n",
        "\n",
        "# Load model with quantization\n",
        "#model = AutoModelForCausalLM.from_pretrained(\n",
        "#    model_name,\n",
        "#    device_map=\"auto\",\n",
        "#)\n",
        "\n",
        "# Prepare model for training\n",
        "model = prepare_model_for_kbit_training(model)\n",
        "\n",
        "# LoRA configuration\n",
        "lora_config = LoraConfig(\n",
        "    r=16,  # Rank\n",
        "    lora_alpha=32,  # Alpha parameter\n",
        "    target_modules=[\"q_proj\", \"k_proj\", \"v_proj\", \"o_proj\"],  # Target attention layers\n",
        "    lora_dropout=0.05,\n",
        "    bias=\"none\",\n",
        "    task_type=\"CAUSAL_LM\",\n",
        ")\n",
        "\n",
        "# Apply LoRA\n",
        "model = get_peft_model(model, lora_config)\n",
        "\n",
        "model.print_trainable_parameters()"
      ],
      "metadata": {
        "id": "SLMGfNgqlNsK"
      },
      "id": "SLMGfNgqlNsK",
      "execution_count": null,
      "outputs": []
    },
    {
      "cell_type": "code",
      "source": [
        "# train the model on custom dataset\n",
        "from trl import SFTTrainer\n",
        "from transformers import TrainingArguments\n",
        "\n",
        "training_args = TrainingArguments(\n",
        "    output_dir = \"./gemma-finetuned-mhfaq\",\n",
        "    per_device_train_batch_size = 4,\n",
        "    gradient_accumulation_steps = 4,\n",
        "    learning_rate = 2e-4,\n",
        "    logging_steps = 10,\n",
        "    max_steps = 100,\n",
        "    num_train_epochs=3,\n",
        "    weight_decay = 0.01,\n",
        "    fp16 = True,\n",
        "    bf16 = False,\n",
        "    max_grad_norm = 0.3,\n",
        "    warmup_ratio = 0.03,\n",
        "    group_by_length = True,\n",
        "    lr_scheduler_type = \"constant\",\n",
        "    report_to = \"tensorboard\",\n",
        "    save_strategy=\"epoch\"\n",
        ")\n",
        "\n",
        "# define the dataset formatting function\n",
        "def formatting(example):\n",
        "  text = f\"Instrcution: {example['instruction']}\\n\"\n",
        "  if example.get('input'):\n",
        "    text += f\"Input: {example['input']}\\n\"\n",
        "  text += f\"Output: {example['output']}\"\n",
        "  return text\n",
        "\n",
        "# define the trainer\n",
        "trainer = SFTTrainer(\n",
        "    model = model,\n",
        "    train_dataset = dataset[\"train\"],\n",
        "    eval_dataset = dataset[\"test\"],\n",
        "    formatting_func = formatting,\n",
        "    args = training_args,\n",
        "    peft_config = lora_config,\n",
        ")\n",
        "\n",
        "#train the model\n",
        "trainer.train()"
      ],
      "metadata": {
        "id": "oFHteEf8oozN"
      },
      "id": "oFHteEf8oozN",
      "execution_count": null,
      "outputs": []
    }
  ],
  "metadata": {
    "kernelspec": {
      "display_name": "Python 3",
      "name": "python3"
    },
    "language_info": {
      "codemirror_mode": {
        "name": "ipython",
        "version": 3
      },
      "file_extension": ".py",
      "mimetype": "text/x-python",
      "name": "python",
      "nbconvert_exporter": "python",
      "pygments_lexer": "ipython3",
      "version": "3.11.7"
    },
    "colab": {
      "provenance": [],
      "gpuType": "T4",
      "include_colab_link": true
    },
    "accelerator": "GPU"
  },
  "nbformat": 4,
  "nbformat_minor": 5
}