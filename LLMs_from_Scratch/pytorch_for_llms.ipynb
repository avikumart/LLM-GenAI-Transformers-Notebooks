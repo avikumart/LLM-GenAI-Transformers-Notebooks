{
  "nbformat": 4,
  "nbformat_minor": 0,
  "metadata": {
    "colab": {
      "provenance": [],
      "gpuType": "T4",
      "authorship_tag": "ABX9TyPLASpzdXbdx2X+3GoetpDr",
      "include_colab_link": true
    },
    "kernelspec": {
      "name": "python3",
      "display_name": "Python 3"
    },
    "language_info": {
      "name": "python"
    },
    "accelerator": "GPU"
  },
  "cells": [
    {
      "cell_type": "markdown",
      "metadata": {
        "id": "view-in-github",
        "colab_type": "text"
      },
      "source": [
        "<a href=\"https://colab.research.google.com/github/avikumart/LLM-GenAI-Transformers-Notebooks/blob/main/LLMs_from_Scratch/pytorch_for_llms.ipynb\" target=\"_parent\"><img src=\"https://colab.research.google.com/assets/colab-badge.svg\" alt=\"Open In Colab\"/></a>"
      ]
    },
    {
      "cell_type": "code",
      "execution_count": 1,
      "metadata": {
        "colab": {
          "base_uri": "https://localhost:8080/"
        },
        "id": "BWE5XwH1TzPG",
        "outputId": "d09e3105-b6d0-4d06-ad7f-ea6ed600fb03"
      },
      "outputs": [
        {
          "output_type": "stream",
          "name": "stdout",
          "text": [
            "2.8.0+cu126\n"
          ]
        }
      ],
      "source": [
        "import torch\n",
        "\n",
        "print(torch.__version__)"
      ]
    },
    {
      "cell_type": "code",
      "source": [
        "print(torch.cuda.is_available())"
      ],
      "metadata": {
        "colab": {
          "base_uri": "https://localhost:8080/"
        },
        "id": "p2RWQyfGY9Ha",
        "outputId": "86a19098-03c0-4f6d-9146-18a0e3f7d8d5"
      },
      "execution_count": 2,
      "outputs": [
        {
          "output_type": "stream",
          "name": "stdout",
          "text": [
            "True\n"
          ]
        }
      ]
    },
    {
      "cell_type": "code",
      "source": [
        "ten1 = torch.tensor([1,23,5])\n",
        "ten2 = torch.tensor([1,3,5])"
      ],
      "metadata": {
        "id": "DfzYECet8cJg"
      },
      "execution_count": 3,
      "outputs": []
    },
    {
      "cell_type": "code",
      "source": [
        "print(ten1 + ten2)"
      ],
      "metadata": {
        "colab": {
          "base_uri": "https://localhost:8080/"
        },
        "id": "kLLDqA-689O1",
        "outputId": "a186a0c6-28c1-409e-814d-32acb9b979cb"
      },
      "execution_count": 4,
      "outputs": [
        {
          "output_type": "stream",
          "name": "stdout",
          "text": [
            "tensor([ 2, 26, 10])\n"
          ]
        }
      ]
    },
    {
      "cell_type": "code",
      "source": [
        "ten1 = ten1.to(\"cuda\")\n",
        "ten2 = ten2.to(\"cuda\")"
      ],
      "metadata": {
        "id": "qTSSOMGZ9Amh"
      },
      "execution_count": 5,
      "outputs": []
    },
    {
      "cell_type": "code",
      "source": [
        "print(ten1 + ten2)"
      ],
      "metadata": {
        "colab": {
          "base_uri": "https://localhost:8080/"
        },
        "id": "xIdNkFB99KbP",
        "outputId": "b046fce5-7a01-40ac-f2b5-45df6ccb0f55"
      },
      "execution_count": 6,
      "outputs": [
        {
          "output_type": "stream",
          "name": "stdout",
          "text": [
            "tensor([ 2, 26, 10], device='cuda:0')\n"
          ]
        }
      ]
    },
    {
      "cell_type": "code",
      "source": [
        "X_train = torch.tensor([\n",
        "    [12,3.4,1],\n",
        "    [2.4,-23,4],\n",
        "    [3,5,8],\n",
        "    [3.4,5.6,5.7],\n",
        "    [2.7,4.5,3.4]\n",
        "])\n",
        "\n",
        "y_train = torch.tensor([0, 0, 0, 1, 1])\n",
        "\n",
        "X_test = torch.tensor([\n",
        "    [-0.8, 2.8, 3.4],\n",
        "    [2.6, -1.6, 2.7],\n",
        "])\n",
        "\n",
        "y_test = torch.tensor([0, 1])"
      ],
      "metadata": {
        "id": "a3W2Qdie9ROk"
      },
      "execution_count": 7,
      "outputs": []
    },
    {
      "cell_type": "markdown",
      "source": [
        "## Pytorch ML modeling on dummy dataset"
      ],
      "metadata": {
        "id": "LRA7rHqPi0ke"
      }
    },
    {
      "cell_type": "code",
      "source": [
        "from torch.utils.data import Dataset\n",
        "\n",
        "# create toydataset from above data\n",
        "class ToyDataset(Dataset):\n",
        "  def __init__(self, X, y):\n",
        "    self.features = X\n",
        "    self.labels = y\n",
        "\n",
        "  def __len__(self):\n",
        "    return self.labels.shape[0]\n",
        "\n",
        "  def __getitem__(self, idx):\n",
        "    return self.features[idx], self.labels[idx]\n",
        "\n",
        "train_ds = ToyDataset(X_train, y_train)\n",
        "test_ds = ToyDataset(X_test, y_test)"
      ],
      "metadata": {
        "id": "mK0SR5Fji0Wt"
      },
      "execution_count": 8,
      "outputs": []
    },
    {
      "cell_type": "code",
      "source": [
        "from torch.utils.data import DataLoader\n",
        "\n",
        "torch.manual_seed(123)\n",
        "\n",
        "train_loader = DataLoader(train_ds, batch_size=2, shuffle=True)\n",
        "test_loader = DataLoader(test_ds, batch_size=2, shuffle=False)"
      ],
      "metadata": {
        "id": "8aKCYVu8rvJU"
      },
      "execution_count": 9,
      "outputs": []
    },
    {
      "cell_type": "code",
      "source": [
        "# Develop a sample neural network for the toy dataset\n",
        "import torch.nn as nn\n",
        "\n",
        "class NeuralNetwork(nn.Module):\n",
        "  def __init__(self, num_inputs, num_outputs):\n",
        "    super().__init__()\n",
        "\n",
        "    self.layers = torch.nn.Sequential(\n",
        "        torch.nn.Linear(num_inputs, 15),\n",
        "        torch.nn.ReLU(),\n",
        "        torch.nn.Linear(15, 8),\n",
        "        torch.nn.ReLU(),\n",
        "        torch.nn.Linear(8, num_outputs)\n",
        "    )\n",
        "\n",
        "  def forward(self, x):\n",
        "    return self.layers(x)"
      ],
      "metadata": {
        "id": "32E8t8nFthEE"
      },
      "execution_count": 17,
      "outputs": []
    },
    {
      "cell_type": "code",
      "source": [
        "# train the neural net from on dummy data by setting the training epochs\n",
        "import torch.nn.functional as F\n",
        "\n",
        "torch.manual_seed(123)\n",
        "model = NeuralNetwork(num_inputs=3, num_outputs=2)\n",
        "\n",
        "# set the device\n",
        "device = torch.device(\"cuda\" if torch.cuda.is_available() else \"cpu\")\n",
        "model.to(device)\n",
        "\n",
        "# optimizer and run thorugh epochs\n",
        "optimizer = torch.optim.SGD(model.parameters(), lr=0.01)\n",
        "\n",
        "\n",
        "num_epochs = 5\n",
        "for epoch in range(num_epochs):\n",
        "  model.train()\n",
        "\n",
        "  for batch_idx, (features, labels) in enumerate(train_loader):\n",
        "    features, labels = features.to(device), labels.to(device)\n",
        "    logits = model(features)\n",
        "    loss = F.cross_entropy(logits, labels)\n",
        "\n",
        "    optimizer.zero_grad()\n",
        "    loss.backward()\n",
        "    optimizer.step()\n",
        "\n",
        "    print('Epoch: %d | Batch: %d | Loss: %.4f' % (epoch, batch_idx, loss.item()))\n",
        "\n",
        "  model.eval()"
      ],
      "metadata": {
        "id": "sdZkMbxgtiVp",
        "outputId": "208b7b94-fd9d-4fbf-bdae-0782c069e800",
        "colab": {
          "base_uri": "https://localhost:8080/"
        }
      },
      "execution_count": 19,
      "outputs": [
        {
          "output_type": "stream",
          "name": "stdout",
          "text": [
            "Epoch: 0 | Batch: 0 | Loss: 3.0720\n",
            "Epoch: 0 | Batch: 1 | Loss: 1.2976\n",
            "Epoch: 0 | Batch: 2 | Loss: 1.5625\n",
            "Epoch: 1 | Batch: 0 | Loss: 1.0317\n",
            "Epoch: 1 | Batch: 1 | Loss: 0.6467\n",
            "Epoch: 1 | Batch: 2 | Loss: 2.3318\n",
            "Epoch: 2 | Batch: 0 | Loss: 0.8345\n",
            "Epoch: 2 | Batch: 1 | Loss: 0.3237\n",
            "Epoch: 2 | Batch: 2 | Loss: 0.6689\n",
            "Epoch: 3 | Batch: 0 | Loss: 0.7645\n",
            "Epoch: 3 | Batch: 1 | Loss: 0.5330\n",
            "Epoch: 3 | Batch: 2 | Loss: 0.1146\n",
            "Epoch: 4 | Batch: 0 | Loss: 0.5035\n",
            "Epoch: 4 | Batch: 1 | Loss: 0.5272\n",
            "Epoch: 4 | Batch: 2 | Loss: 0.6266\n"
          ]
        }
      ]
    },
    {
      "cell_type": "code",
      "source": [
        "# calculate the accuracy of the function\n",
        "def compute_accuracy(model, data_loader, device):\n",
        "  correct_pred, num_examples = 0, 0\n",
        "  model = model.eval()\n",
        "\n",
        "  for idx, (features, targets) in enumerate(data_loader):\n",
        "    features, targets = features.to(device), targets.to(device)\n",
        "    logits = model(features)\n",
        "    _, predicted_labels = torch.max(logits, 1)\n",
        "    num_examples += targets.size(0)\n",
        "    correct_pred += (predicted_labels == targets).sum()\n",
        "\n",
        "  return correct_pred.float() / num_examples * 100"
      ],
      "metadata": {
        "id": "F0OT4SvKLaHZ"
      },
      "execution_count": 20,
      "outputs": []
    },
    {
      "cell_type": "code",
      "source": [
        "compute_accuracy(model, train_loader, device)"
      ],
      "metadata": {
        "id": "r3yzbIsrOQRJ",
        "outputId": "d3516a39-ece7-4db9-8dfd-5d3a6bccd443",
        "colab": {
          "base_uri": "https://localhost:8080/"
        }
      },
      "execution_count": 21,
      "outputs": [
        {
          "output_type": "execute_result",
          "data": {
            "text/plain": [
              "tensor(80., device='cuda:0')"
            ]
          },
          "metadata": {},
          "execution_count": 21
        }
      ]
    },
    {
      "cell_type": "code",
      "source": [
        "compute_accuracy(model, test_loader, device)"
      ],
      "metadata": {
        "id": "2_JMpQF6ObJs",
        "outputId": "963375ea-e7ef-40ed-c659-11927a083d9c",
        "colab": {
          "base_uri": "https://localhost:8080/"
        }
      },
      "execution_count": 22,
      "outputs": [
        {
          "output_type": "execute_result",
          "data": {
            "text/plain": [
              "tensor(50., device='cuda:0')"
            ]
          },
          "metadata": {},
          "execution_count": 22
        }
      ]
    }
  ]
}