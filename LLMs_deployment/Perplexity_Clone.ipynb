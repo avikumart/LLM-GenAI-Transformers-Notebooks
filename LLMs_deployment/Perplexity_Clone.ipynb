{
  "nbformat": 4,
  "nbformat_minor": 0,
  "metadata": {
    "colab": {
      "provenance": [],
      "include_colab_link": true
    },
    "kernelspec": {
      "name": "python3",
      "display_name": "Python 3"
    },
    "language_info": {
      "name": "python"
    }
  },
  "cells": [
    {
      "cell_type": "markdown",
      "metadata": {
        "id": "view-in-github",
        "colab_type": "text"
      },
      "source": [
        "<a href=\"https://colab.research.google.com/github/avikumart/LLM-GenAI-Transformers-Notebooks/blob/main/LLMs_deployment/Perplexity_Clone.ipynb\" target=\"_parent\"><img src=\"https://colab.research.google.com/assets/colab-badge.svg\" alt=\"Open In Colab\"/></a>"
      ]
    },
    {
      "cell_type": "code",
      "source": [
        "!pip install -q -U langchain langgraph==0.3.2 langchain_community openai langchain_openai duckduckgo-search html2text beautifulsoup4 langgraph-prebuilt"
      ],
      "metadata": {
        "collapsed": true,
        "id": "1CMojHHlerZ5"
      },
      "execution_count": null,
      "outputs": []
    },
    {
      "cell_type": "code",
      "source": [
        "import asyncio"
      ],
      "metadata": {
        "id": "7OqZg6yAjQ3x"
      },
      "execution_count": null,
      "outputs": []
    },
    {
      "cell_type": "code",
      "source": [
        "import os\n",
        "import openai\n",
        "from google.colab import userdata\n",
        "\n",
        "os.environ[\"OPENAI_API_KEY\"] = userdata.get('OpenAI')\n",
        "os.environ['USER_AGENT'] = 'myagent"
      ],
      "metadata": {
        "id": "O-uqYbRXerXr"
      },
      "execution_count": null,
      "outputs": []
    },
    {
      "cell_type": "code",
      "source": [
        "ADDITIONAL_QUESTION_PROMPT = \"\"\"You are tasked with analyzing a message to determine if it requires additional input from the user.\n",
        "Your goal is to be conservative in asking for additional input, only indicating that more information is needed if it is relevant to answering the question or fulfilling the request in the message.\n",
        "Use the following criteria to guide your decision:\n",
        "- Is the core question or request clearly stated?\n",
        "- Are all necessary details provided to understand the context?\n",
        "- Would additional information significantly change or improve the response?\n",
        "- Is the missing information essential or helpful?\n",
        "\n",
        "Before giving your final answer, think through your analysis in a scratchpad:\n",
        "\n",
        "\n",
        "Analyze the message here, considering the criteria above. Think step-by-step about whether additional input is truly necessary or if the message can be responded to with the given information.\n",
        "\n",
        "\n",
        "After your analysis, provide your final answer in the following format:\n",
        "\n",
        "\n",
        "[YES/NO]: (Choose YES if additional input is required, NO if it is not)\n",
        "Justification: (Briefly explain your reasoning)\n",
        "\n",
        "Remember to be conservative in asking for additional input. Only say YES if the additional information is highly relevant and necessary to properly address the message.\"\"\"\n",
        "SEARCH_QUERY_PROMPT = \"\"\"You are a helpful AI assistant, create a list of 2-3 search queries based on the message\"\"\"\n",
        "FINAL_NODE_SYSTEM_PROMPT = \"\"\"You are a helpful AI assitant, answer the given question based on the context. Clearly cite the sources for your answer including the links for the sources next to the each point\"\"\"\n",
        "FINAL_NODE_PROMPT = \"\"\"Question: {question}\n",
        "Context: {context}\n",
        "Answer:\"\"\""
      ],
      "metadata": {
        "id": "KbIiW61AerVJ"
      },
      "execution_count": null,
      "outputs": []
    },
    {
      "cell_type": "code",
      "source": [
        "from duckduckgo_search import DDGS\n",
        "\n",
        "def aget_results(word):\n",
        "    results = DDGS(proxy=None).text(word, max_results=2)\n",
        "    return results\n",
        "\n",
        "def search(queries):\n",
        "    results = [aget_results(w) for w in queries]\n",
        "    return results"
      ],
      "metadata": {
        "id": "qWeZxw5derSq"
      },
      "execution_count": null,
      "outputs": []
    },
    {
      "cell_type": "code",
      "source": [
        "from langgraph.prebuilt import ToolNode\n",
        "import json\n",
        "from langchain_core.messages import (\n",
        "    AIMessage,\n",
        "    BaseMessage,\n",
        "    ChatMessage,\n",
        "    FunctionMessage,\n",
        "    HumanMessage,\n",
        ")\n",
        "from langchain_core.prompts import ChatPromptTemplate, MessagesPlaceholder\n",
        "from langchain.chains import create_structured_output_runnable\n",
        "from langchain.agents.agent_types import AgentType\n",
        "from typing import TypedDict, Annotated, Sequence, List\n",
        "from langchain_core.pydantic_v1 import BaseModel, Field\n",
        "import operator\n",
        "from langchain_openai import ChatOpenAI\n",
        "from langgraph.constants import Send\n",
        "from langchain_community.document_loaders import AsyncHtmlLoader\n",
        "from langchain_community.document_transformers import Html2TextTransformer\n",
        "\n",
        "model = ChatOpenAI(model=\"gpt-4o-mini\",temperature=0)\n",
        "\n",
        "class Queries(BaseModel):\n",
        "    \"\"\"List of search queries\"\"\"\n",
        "    queries: List[str] = Field(\n",
        "        description=\"List of the generated search queries\"\n",
        "    )\n",
        "\n",
        "class SummaryState(TypedDict):\n",
        "    content: str\n",
        "    query: str\n",
        "\n",
        "class OverallState(TypedDict):\n",
        "    messages: Annotated[Sequence[BaseMessage], operator.add]\n",
        "    next: str\n",
        "    search_queries: list[str]\n",
        "    search_results: list[str]\n",
        "    page_content: list[str]\n",
        "    page_summaries: Annotated[list, operator.add]\n",
        "\n",
        "    @classmethod\n",
        "    def additional_questions_node(cls,state):\n",
        "      messages = state['messages']\n",
        "      last_message = messages[-1]\n",
        "      prompt = ChatPromptTemplate.from_messages(\n",
        "            [\n",
        "                (\n",
        "                    \"system\",\n",
        "                    ADDITIONAL_QUESTION_PROMPT,\n",
        "                ),\n",
        "                MessagesPlaceholder(variable_name=\"messages\"),\n",
        "                MessagesPlaceholder(variable_name=\"agent_scratchpad\")\n",
        "            ]\n",
        "        )\n",
        "      chain = prompt | model\n",
        "      result = chain.invoke({\n",
        "            \"messages\": messages,\n",
        "            \"agent_scratchpad\": []\n",
        "        })\n",
        "      print(result.content)\n",
        "      return {\"next\":result.content}\n",
        "\n",
        "    @classmethod\n",
        "    def where_to_go(cls,state):\n",
        "      next = state['next']\n",
        "      if \"NO\" in next:\n",
        "        return \"proceed\"\n",
        "      else:\n",
        "        return \"ask\"\n",
        "\n",
        "    @classmethod\n",
        "    def ask_node(cls,state):\n",
        "      messages = state['messages']\n",
        "      user_question = messages[0]\n",
        "      prompt = f\"Ask any additional questions that are required to answer the question: {user_question.content}\"\n",
        "      question = model.invoke(prompt)\n",
        "      return {\"messages\":[question]}\n",
        "\n",
        "    @classmethod\n",
        "    def new_question_node(cls,state):\n",
        "      messages = state['messages']\n",
        "      initial_question = messages[0]\n",
        "      prompt = f\"Reframe the initial question: {initial_question} based on the messages : {messages}\"\n",
        "      response = model.invoke(prompt)\n",
        "      new_question = HumanMessage(content=response.content)\n",
        "      return {\"messages\":[new_question]}\n",
        "\n",
        "    @classmethod\n",
        "    def search_query_node(cls,state):\n",
        "      messages = state['messages']\n",
        "      last_message = messages[-1]\n",
        "\n",
        "      prompt = ChatPromptTemplate.from_messages(\n",
        "            [\n",
        "                (\n",
        "                    \"system\",\n",
        "                    SEARCH_QUERY_PROMPT,\n",
        "                ),\n",
        "                MessagesPlaceholder(variable_name=\"messages\"),\n",
        "            ]\n",
        "        )\n",
        "      chain = prompt | model.with_structured_output(Queries)\n",
        "      result = chain.invoke(messages)\n",
        "      queries = result.queries\n",
        "      return {\"search_queries\":queries}\n",
        "\n",
        "    @classmethod\n",
        "    def search_results_node(cls,state):\n",
        "      queries = state['search_queries']\n",
        "      results = search(queries)\n",
        "      return {\"search_results\":results}\n",
        "\n",
        "    @classmethod\n",
        "    def web_scape_node(cls,state):\n",
        "      search_results = state['search_results']\n",
        "      urls = [result['href'] for search_result in search_results for result in search_result]\n",
        "      #print(urls)\n",
        "      loader = AsyncHtmlLoader(urls)\n",
        "      docs = loader.load()\n",
        "      html2text = Html2TextTransformer()\n",
        "      docs_transformed = html2text.transform_documents(docs)\n",
        "      return {\"page_content\":docs_transformed}\n",
        "\n",
        "    @classmethod\n",
        "    def generate_summary(cls,state: SummaryState):\n",
        "      content = state['content'].page_content\n",
        "      source = state['content'].metadata['source']\n",
        "      query = state['query']\n",
        "      prompt = f\"Summarize the following content to answer the question: {query}, mention the source: {source}   \\n\\n  {content} \"\n",
        "      page_summary = model.invoke(prompt)\n",
        "      return {\"page_summaries\":[page_summary.content]}\n",
        "\n",
        "    @classmethod\n",
        "    def continue_to_summarise_node(cls,state):\n",
        "      return [Send(\"Generate Summary\", {\"content\": p, \"query\": state['messages'][0].content}) for p in state['page_content']]\n",
        "\n",
        "    @classmethod\n",
        "    def final_result_node(cls,state):\n",
        "      messages = state['messages']\n",
        "      question = messages[-1]\n",
        "      context = state['page_summaries']\n",
        "      prompt = ChatPromptTemplate.from_messages(\n",
        "            [\n",
        "                (\n",
        "                    \"system\",\n",
        "                    FINAL_NODE_SYSTEM_PROMPT,\n",
        "                ),\n",
        "                (\n",
        "                    \"human\",\n",
        "                    FINAL_NODE_PROMPT,\n",
        "                ),\n",
        "            ]\n",
        "        )\n",
        "      input = {\"question\":messages[-1],\"context\":context}\n",
        "      formatted_prompt = prompt.format_messages(**input)\n",
        "      response = model.invoke(formatted_prompt)\n",
        "      return {\"messages\":[response]}"
      ],
      "metadata": {
        "id": "frp_FUrQfDWc"
      },
      "execution_count": null,
      "outputs": []
    },
    {
      "cell_type": "code",
      "source": [
        "from langgraph.checkpoint.memory import MemorySaver\n",
        "memory = MemorySaver()"
      ],
      "metadata": {
        "id": "EjmjlUS2fDU6"
      },
      "execution_count": null,
      "outputs": []
    },
    {
      "cell_type": "code",
      "source": [
        "from langgraph.graph import StateGraph, END\n",
        "perplexity = StateGraph(OverallState)\n",
        "perplexity.add_node('Additional Questions',OverallState.additional_questions_node)\n",
        "perplexity.add_node('Ask',OverallState.ask_node)\n",
        "perplexity.add_node('New Question',OverallState.new_question_node)\n",
        "perplexity.add_node('Query Generator',OverallState.search_query_node)\n",
        "perplexity.add_node('Search Results',OverallState.search_results_node)\n",
        "perplexity.add_node('Web Scraper',OverallState.web_scape_node)\n",
        "perplexity.add_node('Generate Summary',OverallState.generate_summary)\n",
        "perplexity.add_node('Final Result',OverallState.final_result_node)\n",
        "\n",
        "perplexity.set_entry_point('Additional Questions')\n",
        "perplexity.set_finish_point('Final Result')\n",
        "\n",
        "perplexity.add_conditional_edges('Additional Questions',OverallState.where_to_go,{'proceed':'Query Generator','ask':'Ask'})\n",
        "perplexity.add_edge('Ask','New Question')\n",
        "perplexity.add_edge('New Question','Query Generator')\n",
        "perplexity.add_edge('Query Generator','Search Results')\n",
        "perplexity.add_edge('Search Results','Web Scraper')\n",
        "perplexity.add_conditional_edges('Web Scraper', OverallState.continue_to_summarise_node,['Generate Summary'])\n",
        "perplexity.add_edge('Generate Summary','Final Result')\n",
        "\n",
        "perplexity_graph = perplexity.compile(checkpointer=memory, interrupt_after=[\"Ask\"])"
      ],
      "metadata": {
        "id": "W9C4Feb2fDSz"
      },
      "execution_count": null,
      "outputs": []
    },
    {
      "cell_type": "code",
      "source": [
        "from IPython.display import Image, display\n",
        "\n",
        "try:\n",
        "    display(Image(perplexity_graph.get_graph().draw_mermaid_png()))\n",
        "except Exception:\n",
        "    pass"
      ],
      "metadata": {
        "colab": {
          "base_uri": "https://localhost:8080/",
          "height": 1000
        },
        "id": "Rr8B_W6VfDQY",
        "outputId": "11227cec-b727-4c6f-bf21-57b73520155f"
      },
      "execution_count": null,
      "outputs": [
        {
          "output_type": "display_data",
          "data": {
            "image/png": "[encoded data removed]",
            "text/plain": [
              "<IPython.core.display.Image object>"
            ]
          },
          "metadata": {}
        }
      ]
    },
    {
      "cell_type": "code",
      "source": [
        "config = {\"configurable\": {\"thread_id\": '1'}}"
      ],
      "metadata": {
        "id": "E1KEB5CJfDLo"
      },
      "execution_count": null,
      "outputs": []
    },
    {
      "cell_type": "code",
      "source": [
        "from langchain_core.messages import BaseMessage, HumanMessage\n",
        "inputs = {\n",
        "    \"messages\": [HumanMessage(content=\"Champions Trophy 2025 Match\")],\n",
        "}"
      ],
      "metadata": {
        "id": "zxZwz3i1fDJb"
      },
      "execution_count": null,
      "outputs": []
    },
    {
      "cell_type": "code",
      "source": [
        "outputs = perplexity_graph.invoke(inputs, config)"
      ],
      "metadata": {
        "colab": {
          "base_uri": "https://localhost:8080/"
        },
        "id": "SfTm53rafDHJ",
        "outputId": "c833cfb7-df35-426a-9d41-adf125f680f7"
      },
      "execution_count": null,
      "outputs": [
        {
          "output_type": "stream",
          "name": "stdout",
          "text": [
            "Scratchpad Analysis:\n",
            "1. The core question or request is not clearly stated. The message simply mentions \"Champions Trophy 2025 Match\" without specifying what information is being sought (e.g., schedule, teams, results, tickets).\n",
            "2. There are no details provided to understand the context or the specific inquiry related to the Champions Trophy 2025 Match.\n",
            "3. Additional information would significantly change or improve the response, as it is unclear what aspect of the match the user is interested in.\n",
            "4. The missing information is essential to provide a relevant and accurate response.\n",
            "\n",
            "Final Answer:\n",
            "[YES]: Additional input is required to clarify what specific information the user is seeking regarding the Champions Trophy 2025 Match.\n"
          ]
        }
      ]
    },
    {
      "cell_type": "code",
      "source": [
        "from IPython.display import Markdown, display\n",
        "display(Markdown(outputs['messages'][-1].content))"
      ],
      "metadata": {
        "colab": {
          "base_uri": "https://localhost:8080/",
          "height": 243
        },
        "id": "ZJto-4-_fDEh",
        "outputId": "119c4650-d565-4dcd-888e-a3083d62d09c"
      },
      "execution_count": null,
      "outputs": [
        {
          "output_type": "display_data",
          "data": {
            "text/plain": [
              "<IPython.core.display.Markdown object>"
            ],
            "text/markdown": "To provide you with the most accurate information about the Champions Trophy 2025 match, I need to clarify a few details:\n\n1. **Specific Match**: Are you asking about a specific match within the tournament, or do you want general information about the tournament format and schedule?\n\n2. **Teams**: Are you interested in a particular team or teams that will be participating in the Champions Trophy 2025?\n\n3. **Location**: Do you want to know about the venue or host country for the matches?\n\n4. **Tickets and Viewing**: Are you looking for information on how to watch the matches or purchase tickets?\n\n5. **Players**: Are you interested in information about specific players or teams' rosters?\n\n6. **Historical Context**: Would you like to know about past Champions Trophy tournaments or how the 2025 edition compares to previous ones?\n\nPlease provide more details so I can assist you better!"
          },
          "metadata": {}
        }
      ]
    },
    {
      "cell_type": "code",
      "source": [
        "current_state = perplexity_graph.get_state(config)\n",
        "print(current_state)"
      ],
      "metadata": {
        "colab": {
          "base_uri": "https://localhost:8080/"
        },
        "id": "UXXYgifrfDCD",
        "outputId": "a71bf037-f9b3-4bb4-bdae-7b4e21efbd26"
      },
      "execution_count": null,
      "outputs": [
        {
          "output_type": "stream",
          "name": "stdout",
          "text": [
            "StateSnapshot(values={'messages': [HumanMessage(content='Champions Trophy 2025 Match', additional_kwargs={}, response_metadata={}), AIMessage(content=\"To provide you with the most accurate information about the Champions Trophy 2025 match, I need to clarify a few details:\\n\\n1. **Specific Match**: Are you asking about a specific match within the tournament, or do you want general information about the tournament format and schedule?\\n\\n2. **Teams**: Are you interested in a particular team or teams that will be participating in the Champions Trophy 2025?\\n\\n3. **Location**: Do you want to know about the venue or host country for the matches?\\n\\n4. **Tickets and Viewing**: Are you looking for information on how to watch the matches or purchase tickets?\\n\\n5. **Players**: Are you interested in information about specific players or teams' rosters?\\n\\n6. **Historical Context**: Would you like to know about past Champions Trophy tournaments or how the 2025 edition compares to previous ones?\\n\\nPlease provide more details so I can assist you better!\", additional_kwargs={'refusal': None}, response_metadata={'token_usage': {'completion_tokens': 188, 'prompt_tokens': 25, 'total_tokens': 213, 'completion_tokens_details': {'accepted_prediction_tokens': 0, 'audio_tokens': 0, 'reasoning_tokens': 0, 'rejected_prediction_tokens': 0}, 'prompt_tokens_details': {'audio_tokens': 0, 'cached_tokens': 0}}, 'model_name': 'gpt-4o-mini-2024-07-18', 'system_fingerprint': 'fp_06737a9306', 'finish_reason': 'stop', 'logprobs': None}, id='run-9aa2872c-288e-4147-afb4-6d1c23dbe942-0', usage_metadata={'input_tokens': 25, 'output_tokens': 188, 'total_tokens': 213, 'input_token_details': {'audio': 0, 'cache_read': 0}, 'output_token_details': {'audio': 0, 'reasoning': 0}})], 'next': 'Scratchpad Analysis:\\n1. The core question or request is not clearly stated. The message simply mentions \"Champions Trophy 2025 Match\" without specifying what information is being sought (e.g., schedule, teams, results, tickets).\\n2. There are no details provided to understand the context or the specific inquiry related to the Champions Trophy 2025 Match.\\n3. Additional information would significantly change or improve the response, as it is unclear what aspect of the match the user is interested in.\\n4. The missing information is essential to provide a relevant and accurate response.\\n\\nFinal Answer:\\n[YES]: Additional input is required to clarify what specific information the user is seeking regarding the Champions Trophy 2025 Match.', 'page_summaries': []}, next=('New Question',), config={'configurable': {'thread_id': '1', 'checkpoint_ns': '', 'checkpoint_id': '1eff6942-676d-6615-8002-ffaf6e56733b'}}, metadata={'source': 'loop', 'writes': {'Ask': {'messages': [AIMessage(content=\"To provide you with the most accurate information about the Champions Trophy 2025 match, I need to clarify a few details:\\n\\n1. **Specific Match**: Are you asking about a specific match within the tournament, or do you want general information about the tournament format and schedule?\\n\\n2. **Teams**: Are you interested in a particular team or teams that will be participating in the Champions Trophy 2025?\\n\\n3. **Location**: Do you want to know about the venue or host country for the matches?\\n\\n4. **Tickets and Viewing**: Are you looking for information on how to watch the matches or purchase tickets?\\n\\n5. **Players**: Are you interested in information about specific players or teams' rosters?\\n\\n6. **Historical Context**: Would you like to know about past Champions Trophy tournaments or how the 2025 edition compares to previous ones?\\n\\nPlease provide more details so I can assist you better!\", additional_kwargs={'refusal': None}, response_metadata={'token_usage': {'completion_tokens': 188, 'prompt_tokens': 25, 'total_tokens': 213, 'completion_tokens_details': {'accepted_prediction_tokens': 0, 'audio_tokens': 0, 'reasoning_tokens': 0, 'rejected_prediction_tokens': 0}, 'prompt_tokens_details': {'audio_tokens': 0, 'cached_tokens': 0}}, 'model_name': 'gpt-4o-mini-2024-07-18', 'system_fingerprint': 'fp_06737a9306', 'finish_reason': 'stop', 'logprobs': None}, id='run-9aa2872c-288e-4147-afb4-6d1c23dbe942-0', usage_metadata={'input_tokens': 25, 'output_tokens': 188, 'total_tokens': 213, 'input_token_details': {'audio': 0, 'cache_read': 0}, 'output_token_details': {'audio': 0, 'reasoning': 0}})]}}, 'thread_id': '1', 'step': 2, 'parents': {}}, created_at='2025-03-01T11:56:03.268915+00:00', parent_config={'configurable': {'thread_id': '1', 'checkpoint_ns': '', 'checkpoint_id': '1eff6942-5096-658b-8001-70eb3a59a4ab'}}, tasks=(PregelTask(id='7a81517a-e2ec-1073-76ed-cfb1c2380d3e', name='New Question', path=('__pregel_pull', 'New Question'), error=None, interrupts=(), state=None, result=None),))\n"
          ]
        }
      ]
    },
    {
      "cell_type": "code",
      "source": [
        "last_message = current_state.values[\"messages\"][-1]\n",
        "print(last_message.content)"
      ],
      "metadata": {
        "colab": {
          "base_uri": "https://localhost:8080/"
        },
        "id": "qUtmAYEGfRUV",
        "outputId": "197b3f82-664e-42b8-ccda-cfd826d03ae9"
      },
      "execution_count": null,
      "outputs": [
        {
          "output_type": "stream",
          "name": "stdout",
          "text": [
            "To provide you with the most accurate information about the Champions Trophy 2025 match, I need to clarify a few details:\n",
            "\n",
            "1. **Specific Match**: Are you asking about a specific match within the tournament, or do you want general information about the tournament format and schedule?\n",
            "\n",
            "2. **Teams**: Are you interested in a particular team or teams that will be participating in the Champions Trophy 2025?\n",
            "\n",
            "3. **Location**: Do you want to know about the venue or host country for the matches?\n",
            "\n",
            "4. **Tickets and Viewing**: Are you looking for information on how to watch the matches or purchase tickets?\n",
            "\n",
            "5. **Players**: Are you interested in information about specific players or teams' rosters?\n",
            "\n",
            "6. **Historical Context**: Would you like to know about past Champions Trophy tournaments or how the 2025 edition compares to previous ones?\n",
            "\n",
            "Please provide more details so I can assist you better!\n"
          ]
        }
      ]
    },
    {
      "cell_type": "code",
      "source": [
        "input_message = [HumanMessage(content=\"I am referring to the recent cricket match between Australia and Afghanistan\")]"
      ],
      "metadata": {
        "id": "7HDYyF88fRSG"
      },
      "execution_count": null,
      "outputs": []
    },
    {
      "cell_type": "code",
      "source": [
        "perplexity_graph.update_state(\n",
        "    config,\n",
        "    {\"messages\": input_message},\n",
        ")"
      ],
      "metadata": {
        "colab": {
          "base_uri": "https://localhost:8080/"
        },
        "id": "-W7xIlszfRPp",
        "outputId": "dd240d86-836a-489a-a268-df56e4db7bfa"
      },
      "execution_count": null,
      "outputs": [
        {
          "output_type": "execute_result",
          "data": {
            "text/plain": [
              "{'configurable': {'thread_id': '1',\n",
              "  'checkpoint_ns': '',\n",
              "  'checkpoint_id': '1eff6942-6849-666f-8003-77c3ec4b9e88'}}"
            ]
          },
          "metadata": {},
          "execution_count": 50
        }
      ]
    },
    {
      "cell_type": "code",
      "source": [
        "outputs = perplexity_graph.invoke(None, config)"
      ],
      "metadata": {
        "colab": {
          "base_uri": "https://localhost:8080/"
        },
        "id": "PrcC5qaJfRNa",
        "outputId": "bacc26cb-756e-4bfb-e486-785fc13b9d64"
      },
      "execution_count": null,
      "outputs": [
        {
          "output_type": "stream",
          "name": "stderr",
          "text": [
            "/usr/local/lib/python3.11/dist-packages/langchain_openai/chat_models/base.py:1377: UserWarning: Received a Pydantic BaseModel V1 schema. This is not supported by method=\"json_schema\". Please use method=\"function_calling\" or specify schema via JSON Schema or Pydantic V2 BaseModel. Overriding to method=\"function_calling\".\n",
            "  warnings.warn(\n",
            "Fetching pages: 100%|##########| 6/6 [00:01<00:00,  3.87it/s]\n"
          ]
        }
      ]
    },
    {
      "cell_type": "code",
      "source": [
        "from IPython.display import Markdown, display\n",
        "display(Markdown(outputs['messages'][-1].content))"
      ],
      "metadata": {
        "colab": {
          "base_uri": "https://localhost:8080/",
          "height": 318
        },
        "id": "Y2hH9h0mfb35",
        "outputId": "ab152027-6ced-4962-8ceb-bb957d5fa228"
      },
      "execution_count": null,
      "outputs": [
        {
          "output_type": "display_data",
          "data": {
            "text/plain": [
              "<IPython.core.display.Markdown object>"
            ],
            "text/markdown": "In the ICC Champions Trophy 2025 match between Australia and Afghanistan, which took place on February 28, 2025, at Gaddafi Stadium in Lahore, the game was ultimately called off due to rain. Here are the key details:\n\n1. **Match Summary**: Afghanistan batted first and set a target of 273 runs, scoring 273 runs in total. Notable contributions came from Sediqullah Atal, who scored 85 runs, and Azmatullah Omarzai, who added 67 runs. Australia's bowling was led by Ben Dwarshuis, who took three wickets during Afghanistan's innings. In response, Australia was at 109 runs for the loss of one wicket in 12.5 overs when rain interrupted play, leading to the match being abandoned. As a result, both teams shared the points, but Australia advanced to the semi-finals due to their position in the chase [Sporting News](https://www.sportingnews.com/au/cricket/news/australia-afghanistan-champions-trophy-2025-live-updates-scores-result-highlights/ad89f25b3f67e5308b92779d), [CricTracker](https://www.crictracker.com/cricket-stats-mania/champions-trophy-2025-afghanistan-vs-australia-match-10-stats-review-of-player-records-and-achieved-milestones-0207/), [ESPN Cricinfo](https://www.espncricinfo.com/series/icc-champions-trophy-2024-25-1459031/afghanistan-vs-australia-10th-match-group-b-1466423/live-cricket-score).\n\n2. **Notable Performances**: Travis Head made headlines by scoring the fastest fifty in Champions Trophy history, reaching his fifty in just 34 balls. At the time of the rain delay, he was unbeaten on 59 runs. Additionally, Hashmatullah Shahidi became Afghanistan's fourth-highest ODI run-scorer during this match [CricTracker](https://www.crictracker.com/cricket-stats-mania/champions-trophy-2025-afghanistan-vs-australia-match-10-stats-review-of-player-records-and-achieved-milestones-0207/).\n\n3. **Implications for Teams**: With this result, Australia secured four points and advanced to the semi-finals. Afghanistan, having three points, needed a significant defeat of South Africa by England in their next match to have a chance of advancing [ESPN Cricinfo](https://www.espncricinfo.com/series/icc-champions-trophy-2024-25-1459031/afghanistan-vs-australia-10th-match-group-b-1466423/live-cricket-score).\n\nFor further details and highlights, you can check the following sources:\n- [Cricbuzz Highlights](https://www.cricbuzz.com/cricket-videos/119102/highlights-afghanistan-v-australia-icc-champions-trophy-2025)\n- [SuperSport Highlights](https://supersport.com/cricket/icc-champions-trophy-2025/video/6b2818b4-52b4-4ea1-b8ca-94757a36893b/afghanistan-v-australia-match-highlights-icc-champions-trophy)"
          },
          "metadata": {}
        }
      ]
    }
  ]
}